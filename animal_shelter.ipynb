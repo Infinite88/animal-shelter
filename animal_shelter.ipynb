{
 "cells": [
  {
   "cell_type": "code",
   "execution_count": 44,
   "metadata": {
    "collapsed": true
   },
   "outputs": [],
   "source": [
    "import pandas as pd\n",
    "import seaborn as sns\n",
    "import numpy as np\n",
    "import matplotlib.pyplot as plt\n",
    "%matplotlib inline"
   ]
  },
  {
   "cell_type": "code",
   "execution_count": 45,
   "metadata": {
    "collapsed": true
   },
   "outputs": [],
   "source": [
    "def animalDF(file):\n",
    "    df = pd.read_csv(file)\n",
    "    print(df.info())\n",
    "    return df"
   ]
  },
  {
   "cell_type": "code",
   "execution_count": 46,
   "metadata": {
    "collapsed": false
   },
   "outputs": [
    {
     "name": "stdout",
     "output_type": "stream",
     "text": [
      "<class 'pandas.core.frame.DataFrame'>\n",
      "RangeIndex: 26729 entries, 0 to 26728\n",
      "Data columns (total 10 columns):\n",
      "AnimalID          26729 non-null object\n",
      "Name              19038 non-null object\n",
      "DateTime          26729 non-null object\n",
      "OutcomeType       26729 non-null object\n",
      "OutcomeSubtype    13117 non-null object\n",
      "AnimalType        26729 non-null object\n",
      "SexuponOutcome    26728 non-null object\n",
      "AgeuponOutcome    26711 non-null object\n",
      "Breed             26729 non-null object\n",
      "Color             26729 non-null object\n",
      "dtypes: object(10)\n",
      "memory usage: 2.0+ MB\n",
      "None\n"
     ]
    }
   ],
   "source": [
    "animals = animalDF('files/train.csv')"
   ]
  },
  {
   "cell_type": "code",
   "execution_count": 47,
   "metadata": {
    "collapsed": false
   },
   "outputs": [],
   "source": [
    "def convert_to_numeric(df):\n",
    "    for col in ['AnimalID','Name', 'DateTime', 'OutcomeSubtype', 'AnimalType', 'SexuponOutcome',\n",
    "                'Breed', 'Color', 'OutcomeType', 'AgeuponOutcome']:\n",
    "        if col in df.columns:\n",
    "            _col = \"_%s\" % (col)\n",
    "            values = df[col].unique()\n",
    "            _values = dict(zip(values, range(len(values))))\n",
    "            df[_col] = df[col].map(_values).astype(int)\n",
    "            df = df.drop(col, axis = 1)\n",
    "    return df\n",
    "\n",
    "animalPCA = convert_to_numeric(animals)"
   ]
  },
  {
   "cell_type": "markdown",
   "metadata": {},
   "source": [
    "## Exploratory"
   ]
  },
  {
   "cell_type": "markdown",
   "metadata": {},
   "source": [
    "### Missing Data"
   ]
  },
  {
   "cell_type": "code",
   "execution_count": 48,
   "metadata": {
    "collapsed": false
   },
   "outputs": [
    {
     "data": {
      "text/plain": [
       "AnimalID          False\n",
       "Name               True\n",
       "DateTime          False\n",
       "OutcomeType       False\n",
       "OutcomeSubtype     True\n",
       "AnimalType        False\n",
       "SexuponOutcome     True\n",
       "AgeuponOutcome     True\n",
       "Breed             False\n",
       "Color             False\n",
       "_AnimalID         False\n",
       "dtype: bool"
      ]
     },
     "execution_count": 48,
     "metadata": {},
     "output_type": "execute_result"
    }
   ],
   "source": [
    "animals.isnull().any(axis=0)"
   ]
  },
  {
   "cell_type": "markdown",
   "metadata": {},
   "source": [
    "Here we can see that the columns 'Name', 'OutcomeSubtype', 'SexuponOutcome', and 'AgeuponOutcome' all have missing values. "
   ]
  },
  {
   "cell_type": "code",
   "execution_count": 49,
   "metadata": {
    "collapsed": false
   },
   "outputs": [],
   "source": [
    "animals['Name'] = animals['Name'].fillna('No name')\n",
    "animals['OutcomeSubtype'] = animals['OutcomeSubtype'].fillna('Unknown')\n",
    "animals['SexuponOutcome'] = animals['SexuponOutcome'].fillna('Unknown')\n",
    "animals['AgeuponOutcome'] = animals['AgeuponOutcome'].fillna('1 year')"
   ]
  },
  {
   "cell_type": "code",
   "execution_count": 50,
   "metadata": {
    "collapsed": false
   },
   "outputs": [],
   "source": [
    "animals = animals.drop('_AnimalID', axis=1)"
   ]
  },
  {
   "cell_type": "markdown",
   "metadata": {},
   "source": [
    "First I would like to see the different type of animals that are in this data set, as well as their outcomes."
   ]
  },
  {
   "cell_type": "code",
   "execution_count": 51,
   "metadata": {
    "collapsed": false
   },
   "outputs": [
    {
     "data": {
      "text/plain": [
       "<matplotlib.axes._subplots.AxesSubplot at 0x7f8072d21cf8>"
      ]
     },
     "execution_count": 51,
     "metadata": {},
     "output_type": "execute_result"
    },
    {
     "data": {
      "image/png": "[encoded data removed]",
      "text/plain": [
       "<matplotlib.figure.Figure at 0x7f8072d39908>"
      ]
     },
     "metadata": {},
     "output_type": "display_data"
    }
   ],
   "source": [
    "f, (ax1, ax2) = plt.subplots(1, 2, figsize=(16, 4))\n",
    "sns.countplot(data=animals, x='AnimalType', ax=ax1)\n",
    "sns.countplot(data=animals, x='AnimalType', hue='OutcomeType',ax=ax2)"
   ]
  },
  {
   "cell_type": "markdown",
   "metadata": {},
   "source": [
    "Here we can see that the only two types of animals that are in this data set are dogs and cats. According to the graph, we can see that both dogs and cats are likely to be adopted or transferred. It also seems that dogs are more likely to be returned to it's owners."
   ]
  },
  {
   "cell_type": "code",
   "execution_count": 52,
   "metadata": {
    "collapsed": false
   },
   "outputs": [],
   "source": [
    "def colorSplit(x):\n",
    "    x = str(x)\n",
    "    \n",
    "    if x.find('/') >= 0:\n",
    "        split = x.split('/')\n",
    "        return split[0]\n",
    "    else:\n",
    "        return x\n",
    "    "
   ]
  },
  {
   "cell_type": "code",
   "execution_count": 53,
   "metadata": {
    "collapsed": true
   },
   "outputs": [],
   "source": [
    "def colorSplit1(x):\n",
    "    x = str(x)\n",
    "    if x.find(' ') >= 0 or x.find(' ') == True:\n",
    "        split = x.split(' ')\n",
    "        return split[0]\n",
    "    else:\n",
    "        return x"
   ]
  },
  {
   "cell_type": "code",
   "execution_count": 54,
   "metadata": {
    "collapsed": false
   },
   "outputs": [],
   "source": [
    "animals['Color'] = animals['Color'].apply(colorSplit)"
   ]
  },
  {
   "cell_type": "code",
   "execution_count": 55,
   "metadata": {
    "collapsed": true
   },
   "outputs": [],
   "source": [
    "animals['Color'] = animals['Color'].apply(colorSplit1)"
   ]
  },
  {
   "cell_type": "code",
   "execution_count": 56,
   "metadata": {
    "collapsed": false
   },
   "outputs": [
    {
     "data": {
      "text/plain": [
       "array(['Brown', 'Cream', 'Blue', 'Tan', 'Black', 'Red', 'White', 'Silver',\n",
       "       'Orange', 'Chocolate', 'Calico', 'Torbie', 'Yellow', 'Tricolor',\n",
       "       'Tortie', 'Gray', 'Buff', 'Seal', 'Fawn', 'Flame', 'Sable', 'Liver',\n",
       "       'Apricot', 'Lynx', 'Lilac', 'Gold', 'Agouti', 'Pink', 'Ruddy'], dtype=object)"
      ]
     },
     "execution_count": 56,
     "metadata": {},
     "output_type": "execute_result"
    }
   ],
   "source": [
    "animals['Color'].unique()"
   ]
  },
  {
   "cell_type": "code",
   "execution_count": 57,
   "metadata": {
    "collapsed": false
   },
   "outputs": [
    {
     "data": {
      "text/plain": [
       "Black        6646\n",
       "Brown        5318\n",
       "White        3344\n",
       "Blue         2149\n",
       "Tan          1674\n",
       "Orange       1343\n",
       "Red           871\n",
       "Tricolor      800\n",
       "Tortie        614\n",
       "Calico        579\n",
       "Cream         498\n",
       "Chocolate     469\n",
       "Torbie        398\n",
       "Sable         324\n",
       "Gray          278\n",
       "Buff          267\n",
       "Yellow        261\n",
       "Fawn          209\n",
       "Lynx          183\n",
       "Seal          158\n",
       "Silver         96\n",
       "Flame          85\n",
       "Gold           77\n",
       "Lilac          39\n",
       "Apricot        26\n",
       "Liver          19\n",
       "Agouti          2\n",
       "Ruddy           1\n",
       "Pink            1\n",
       "Name: Color, dtype: int64"
      ]
     },
     "execution_count": 57,
     "metadata": {},
     "output_type": "execute_result"
    }
   ],
   "source": [
    "animals['Color'].value_counts()"
   ]
  },
  {
   "cell_type": "code",
   "execution_count": null,
   "metadata": {
    "collapsed": false
   },
   "outputs": [],
   "source": []
  },
  {
   "cell_type": "code",
   "execution_count": 58,
   "metadata": {
    "collapsed": false
   },
   "outputs": [
    {
     "name": "stdout",
     "output_type": "stream",
     "text": [
      "<class 'pandas.core.frame.DataFrame'>\n",
      "RangeIndex: 26729 entries, 0 to 26728\n",
      "Data columns (total 10 columns):\n",
      "AnimalID          26729 non-null object\n",
      "Name              26729 non-null object\n",
      "DateTime          26729 non-null object\n",
      "OutcomeType       26729 non-null object\n",
      "OutcomeSubtype    26729 non-null object\n",
      "AnimalType        26729 non-null object\n",
      "SexuponOutcome    26729 non-null object\n",
      "AgeuponOutcome    26729 non-null object\n",
      "Breed             26729 non-null object\n",
      "Color             26729 non-null object\n",
      "dtypes: object(10)\n",
      "memory usage: 2.0+ MB\n"
     ]
    }
   ],
   "source": [
    "animals.info()"
   ]
  },
  {
   "cell_type": "code",
   "execution_count": null,
   "metadata": {
    "collapsed": true
   },
   "outputs": [],
   "source": []
  }
 ],
 "metadata": {
  "kernelspec": {
   "display_name": "Python 3",
   "language": "python",
   "name": "python3"
  },
  "language_info": {
   "codemirror_mode": {
    "name": "ipython",
    "version": 3
   },
   "file_extension": ".py",
   "mimetype": "text/x-python",
   "name": "python",
   "nbconvert_exporter": "python",
   "pygments_lexer": "ipython3",
   "version": "3.5.1"
  }
 },
 "nbformat": 4,
 "nbformat_minor": 0
}
