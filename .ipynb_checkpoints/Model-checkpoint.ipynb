{
 "cells": [
  {
   "cell_type": "code",
   "execution_count": 54,
   "metadata": {
    "collapsed": true
   },
   "outputs": [],
   "source": [
    "import pandas as pd\n",
    "import numpy as np\n",
    "import matplotlib.pyplot as plt\n",
    "import time\n",
    "\n",
    "from sklearn.learning_curve import learning_curve\n",
    "from sklearn import metrics\n",
    "from sklearn.cross_validation import cross_val_score\n",
    "from sklearn.linear_model import LogisticRegression\n",
    "from sklearn.neighbors import KNeighborsClassifier\n",
    "from sklearn.tree import DecisionTreeClassifier\n",
    "from sklearn.naive_bayes import GaussianNB\n",
    "from sklearn.svm import SVC\n",
    "from sklearn.ensemble import GradientBoostingClassifier, RandomForestClassifier, AdaBoostClassifier\n",
    "from sklearn.metrics import classification_report, accuracy_score,log_loss, f1_score\n",
    "from sklearn.grid_search import GridSearchCV \n",
    "from sklearn.preprocessing import MinMaxScaler, LabelEncoder\n",
    "%matplotlib inline\n",
    "\n",
    "import warnings\n",
    "warnings.filterwarnings('ignore')"
   ]
  },
  {
   "cell_type": "code",
   "execution_count": 18,
   "metadata": {
    "collapsed": false
   },
   "outputs": [],
   "source": [
    "# Importing cleaned dataset for both the testing set and training set \n",
    "trainDF = pd.read_csv('files/cleanTrain.csv')\n",
    "testDF = pd.read_csv('files/cleanTest.csv')"
   ]
  },
  {
   "cell_type": "code",
   "execution_count": 19,
   "metadata": {
    "collapsed": false
   },
   "outputs": [
    {
     "data": {
      "text/html": [
       "<div>\n",
       "<table border=\"1\" class=\"dataframe\">\n",
       "  <thead>\n",
       "    <tr style=\"text-align: right;\">\n",
       "      <th></th>\n",
       "      <th>AnimalID</th>\n",
       "      <th>Name</th>\n",
       "      <th>OutcomeType</th>\n",
       "      <th>AnimalType</th>\n",
       "      <th>AgeuponOutcome</th>\n",
       "      <th>Breed</th>\n",
       "      <th>Color</th>\n",
       "      <th>Sex</th>\n",
       "      <th>Neutered</th>\n",
       "      <th>Year</th>\n",
       "      <th>Month</th>\n",
       "      <th>Day</th>\n",
       "      <th>Hour</th>\n",
       "      <th>Minute</th>\n",
       "    </tr>\n",
       "  </thead>\n",
       "  <tbody>\n",
       "    <tr>\n",
       "      <th>0</th>\n",
       "      <td>A671945</td>\n",
       "      <td>Has Name</td>\n",
       "      <td>Return_to_owner</td>\n",
       "      <td>Dog</td>\n",
       "      <td>52</td>\n",
       "      <td>Hybrid</td>\n",
       "      <td>Brown</td>\n",
       "      <td>Male</td>\n",
       "      <td>Neutered</td>\n",
       "      <td>2014</td>\n",
       "      <td>2</td>\n",
       "      <td>12</td>\n",
       "      <td>18</td>\n",
       "      <td>22</td>\n",
       "    </tr>\n",
       "    <tr>\n",
       "      <th>1</th>\n",
       "      <td>A656520</td>\n",
       "      <td>Has Name</td>\n",
       "      <td>Euthanasia</td>\n",
       "      <td>Cat</td>\n",
       "      <td>52</td>\n",
       "      <td>Hybrid</td>\n",
       "      <td>Cream</td>\n",
       "      <td>Female</td>\n",
       "      <td>Neutered</td>\n",
       "      <td>2013</td>\n",
       "      <td>10</td>\n",
       "      <td>13</td>\n",
       "      <td>12</td>\n",
       "      <td>44</td>\n",
       "    </tr>\n",
       "    <tr>\n",
       "      <th>2</th>\n",
       "      <td>A686464</td>\n",
       "      <td>Has Name</td>\n",
       "      <td>Adoption</td>\n",
       "      <td>Dog</td>\n",
       "      <td>104</td>\n",
       "      <td>Hybrid</td>\n",
       "      <td>Blue</td>\n",
       "      <td>Male</td>\n",
       "      <td>Neutered</td>\n",
       "      <td>2015</td>\n",
       "      <td>1</td>\n",
       "      <td>31</td>\n",
       "      <td>12</td>\n",
       "      <td>28</td>\n",
       "    </tr>\n",
       "    <tr>\n",
       "      <th>3</th>\n",
       "      <td>A683430</td>\n",
       "      <td>No Name</td>\n",
       "      <td>Transfer</td>\n",
       "      <td>Cat</td>\n",
       "      <td>3</td>\n",
       "      <td>Hybrid</td>\n",
       "      <td>Blue</td>\n",
       "      <td>Male</td>\n",
       "      <td>Intact</td>\n",
       "      <td>2014</td>\n",
       "      <td>7</td>\n",
       "      <td>11</td>\n",
       "      <td>19</td>\n",
       "      <td>9</td>\n",
       "    </tr>\n",
       "    <tr>\n",
       "      <th>4</th>\n",
       "      <td>A667013</td>\n",
       "      <td>No Name</td>\n",
       "      <td>Transfer</td>\n",
       "      <td>Dog</td>\n",
       "      <td>104</td>\n",
       "      <td>Hybrid</td>\n",
       "      <td>Tan</td>\n",
       "      <td>Male</td>\n",
       "      <td>Neutered</td>\n",
       "      <td>2013</td>\n",
       "      <td>11</td>\n",
       "      <td>15</td>\n",
       "      <td>12</td>\n",
       "      <td>52</td>\n",
       "    </tr>\n",
       "  </tbody>\n",
       "</table>\n",
       "</div>"
      ],
      "text/plain": [
       "  AnimalID      Name      OutcomeType AnimalType  AgeuponOutcome   Breed  \\\n",
       "0  A671945  Has Name  Return_to_owner        Dog              52  Hybrid   \n",
       "1  A656520  Has Name       Euthanasia        Cat              52  Hybrid   \n",
       "2  A686464  Has Name         Adoption        Dog             104  Hybrid   \n",
       "3  A683430   No Name         Transfer        Cat               3  Hybrid   \n",
       "4  A667013   No Name         Transfer        Dog             104  Hybrid   \n",
       "\n",
       "   Color     Sex  Neutered  Year  Month  Day  Hour  Minute  \n",
       "0  Brown    Male  Neutered  2014      2   12    18      22  \n",
       "1  Cream  Female  Neutered  2013     10   13    12      44  \n",
       "2   Blue    Male  Neutered  2015      1   31    12      28  \n",
       "3   Blue    Male    Intact  2014      7   11    19       9  \n",
       "4    Tan    Male  Neutered  2013     11   15    12      52  "
      ]
     },
     "execution_count": 19,
     "metadata": {},
     "output_type": "execute_result"
    }
   ],
   "source": [
    "trainDF.head()"
   ]
  },
  {
   "cell_type": "code",
   "execution_count": 20,
   "metadata": {
    "collapsed": false
   },
   "outputs": [
    {
     "name": "stdout",
     "output_type": "stream",
     "text": [
      "<class 'pandas.core.frame.DataFrame'>\n",
      "RangeIndex: 26729 entries, 0 to 26728\n",
      "Data columns (total 14 columns):\n",
      "AnimalID          26729 non-null object\n",
      "Name              26729 non-null object\n",
      "OutcomeType       26729 non-null object\n",
      "AnimalType        26729 non-null object\n",
      "AgeuponOutcome    26729 non-null int64\n",
      "Breed             26729 non-null object\n",
      "Color             26729 non-null object\n",
      "Sex               26729 non-null object\n",
      "Neutered          26729 non-null object\n",
      "Year              26729 non-null int64\n",
      "Month             26729 non-null int64\n",
      "Day               26729 non-null int64\n",
      "Hour              26729 non-null int64\n",
      "Minute            26729 non-null int64\n",
      "dtypes: int64(6), object(8)\n",
      "memory usage: 2.9+ MB\n"
     ]
    }
   ],
   "source": [
    "trainDF.info()"
   ]
  },
  {
   "cell_type": "code",
   "execution_count": 21,
   "metadata": {
    "collapsed": false
   },
   "outputs": [
    {
     "name": "stdout",
     "output_type": "stream",
     "text": [
      "<class 'pandas.core.frame.DataFrame'>\n",
      "RangeIndex: 11456 entries, 0 to 11455\n",
      "Data columns (total 13 columns):\n",
      "ID                11456 non-null int64\n",
      "Name              11456 non-null object\n",
      "AnimalType        11456 non-null object\n",
      "AgeuponOutcome    11456 non-null int64\n",
      "Breed             11456 non-null object\n",
      "Color             11456 non-null object\n",
      "Sex               11456 non-null object\n",
      "Neutered          11456 non-null object\n",
      "Year              11456 non-null int64\n",
      "Month             11456 non-null int64\n",
      "Day               11456 non-null int64\n",
      "Hour              11456 non-null int64\n",
      "Minute            11456 non-null int64\n",
      "dtypes: int64(7), object(6)\n",
      "memory usage: 1.1+ MB\n"
     ]
    }
   ],
   "source": [
    "testDF.info()"
   ]
  },
  {
   "cell_type": "code",
   "execution_count": 22,
   "metadata": {
    "collapsed": true
   },
   "outputs": [],
   "source": [
    "# Dropping features so that datasets features match\n",
    "train = trainDF.drop(['AnimalID', 'OutcomeType'], axis = 1)\n",
    "test = testDF.drop('ID', axis=1)"
   ]
  },
  {
   "cell_type": "code",
   "execution_count": 23,
   "metadata": {
    "collapsed": false
   },
   "outputs": [
    {
     "name": "stdout",
     "output_type": "stream",
     "text": [
      "<class 'pandas.core.frame.DataFrame'>\n",
      "RangeIndex: 26729 entries, 0 to 26728\n",
      "Data columns (total 12 columns):\n",
      "Name              26729 non-null object\n",
      "AnimalType        26729 non-null object\n",
      "AgeuponOutcome    26729 non-null int64\n",
      "Breed             26729 non-null object\n",
      "Color             26729 non-null object\n",
      "Sex               26729 non-null object\n",
      "Neutered          26729 non-null object\n",
      "Year              26729 non-null int64\n",
      "Month             26729 non-null int64\n",
      "Day               26729 non-null int64\n",
      "Hour              26729 non-null int64\n",
      "Minute            26729 non-null int64\n",
      "dtypes: int64(6), object(6)\n",
      "memory usage: 2.4+ MB\n"
     ]
    }
   ],
   "source": [
    "train.info()"
   ]
  },
  {
   "cell_type": "code",
   "execution_count": 24,
   "metadata": {
    "collapsed": false
   },
   "outputs": [
    {
     "name": "stdout",
     "output_type": "stream",
     "text": [
      "<class 'pandas.core.frame.DataFrame'>\n",
      "RangeIndex: 11456 entries, 0 to 11455\n",
      "Data columns (total 12 columns):\n",
      "Name              11456 non-null object\n",
      "AnimalType        11456 non-null object\n",
      "AgeuponOutcome    11456 non-null int64\n",
      "Breed             11456 non-null object\n",
      "Color             11456 non-null object\n",
      "Sex               11456 non-null object\n",
      "Neutered          11456 non-null object\n",
      "Year              11456 non-null int64\n",
      "Month             11456 non-null int64\n",
      "Day               11456 non-null int64\n",
      "Hour              11456 non-null int64\n",
      "Minute            11456 non-null int64\n",
      "dtypes: int64(6), object(6)\n",
      "memory usage: 1.0+ MB\n"
     ]
    }
   ],
   "source": [
    "test.info()"
   ]
  },
  {
   "cell_type": "code",
   "execution_count": 25,
   "metadata": {
    "collapsed": false
   },
   "outputs": [],
   "source": [
    "# Transform data into numeric values\n",
    "lb = LabelEncoder()\n",
    "categorical_columns = train.columns[train.dtypes == 'object']\n",
    "for var in categorical_columns:\n",
    "    full_data = pd.concat((train[var],test[var]),axis=0).astype('str')\n",
    "    lb.fit(full_data )\n",
    "    train.loc[:, var] = lb.transform(train[var].astype('str'))\n",
    "    test.loc[:, var] = lb.transform(test[var].astype('str'))"
   ]
  },
  {
   "cell_type": "code",
   "execution_count": 26,
   "metadata": {
    "collapsed": false
   },
   "outputs": [
    {
     "data": {
      "text/html": [
       "<div>\n",
       "<table border=\"1\" class=\"dataframe\">\n",
       "  <thead>\n",
       "    <tr style=\"text-align: right;\">\n",
       "      <th></th>\n",
       "      <th>Name</th>\n",
       "      <th>AnimalType</th>\n",
       "      <th>AgeuponOutcome</th>\n",
       "      <th>Breed</th>\n",
       "      <th>Color</th>\n",
       "      <th>Sex</th>\n",
       "      <th>Neutered</th>\n",
       "      <th>Year</th>\n",
       "      <th>Month</th>\n",
       "      <th>Day</th>\n",
       "      <th>Hour</th>\n",
       "      <th>Minute</th>\n",
       "    </tr>\n",
       "  </thead>\n",
       "  <tbody>\n",
       "    <tr>\n",
       "      <th>0</th>\n",
       "      <td>0</td>\n",
       "      <td>1</td>\n",
       "      <td>52</td>\n",
       "      <td>0</td>\n",
       "      <td>4</td>\n",
       "      <td>1</td>\n",
       "      <td>1</td>\n",
       "      <td>2014</td>\n",
       "      <td>2</td>\n",
       "      <td>12</td>\n",
       "      <td>18</td>\n",
       "      <td>22</td>\n",
       "    </tr>\n",
       "    <tr>\n",
       "      <th>1</th>\n",
       "      <td>0</td>\n",
       "      <td>0</td>\n",
       "      <td>52</td>\n",
       "      <td>0</td>\n",
       "      <td>8</td>\n",
       "      <td>0</td>\n",
       "      <td>1</td>\n",
       "      <td>2013</td>\n",
       "      <td>10</td>\n",
       "      <td>13</td>\n",
       "      <td>12</td>\n",
       "      <td>44</td>\n",
       "    </tr>\n",
       "    <tr>\n",
       "      <th>2</th>\n",
       "      <td>0</td>\n",
       "      <td>1</td>\n",
       "      <td>104</td>\n",
       "      <td>0</td>\n",
       "      <td>3</td>\n",
       "      <td>1</td>\n",
       "      <td>1</td>\n",
       "      <td>2015</td>\n",
       "      <td>1</td>\n",
       "      <td>31</td>\n",
       "      <td>12</td>\n",
       "      <td>28</td>\n",
       "    </tr>\n",
       "    <tr>\n",
       "      <th>3</th>\n",
       "      <td>1</td>\n",
       "      <td>0</td>\n",
       "      <td>3</td>\n",
       "      <td>0</td>\n",
       "      <td>3</td>\n",
       "      <td>1</td>\n",
       "      <td>0</td>\n",
       "      <td>2014</td>\n",
       "      <td>7</td>\n",
       "      <td>11</td>\n",
       "      <td>19</td>\n",
       "      <td>9</td>\n",
       "    </tr>\n",
       "    <tr>\n",
       "      <th>4</th>\n",
       "      <td>1</td>\n",
       "      <td>1</td>\n",
       "      <td>104</td>\n",
       "      <td>0</td>\n",
       "      <td>23</td>\n",
       "      <td>1</td>\n",
       "      <td>1</td>\n",
       "      <td>2013</td>\n",
       "      <td>11</td>\n",
       "      <td>15</td>\n",
       "      <td>12</td>\n",
       "      <td>52</td>\n",
       "    </tr>\n",
       "  </tbody>\n",
       "</table>\n",
       "</div>"
      ],
      "text/plain": [
       "   Name  AnimalType  AgeuponOutcome  Breed  Color  Sex  Neutered  Year  Month  \\\n",
       "0     0           1              52      0      4    1         1  2014      2   \n",
       "1     0           0              52      0      8    0         1  2013     10   \n",
       "2     0           1             104      0      3    1         1  2015      1   \n",
       "3     1           0               3      0      3    1         0  2014      7   \n",
       "4     1           1             104      0     23    1         1  2013     11   \n",
       "\n",
       "   Day  Hour  Minute  \n",
       "0   12    18      22  \n",
       "1   13    12      44  \n",
       "2   31    12      28  \n",
       "3   11    19       9  \n",
       "4   15    12      52  "
      ]
     },
     "execution_count": 26,
     "metadata": {},
     "output_type": "execute_result"
    }
   ],
   "source": [
    "train.head()"
   ]
  },
  {
   "cell_type": "code",
   "execution_count": 27,
   "metadata": {
    "collapsed": false
   },
   "outputs": [],
   "source": [
    "#\n",
    "X_all = train.values\n",
    "y_all = trainDF.OutcomeType.values\n",
    "\n",
    "x_test = test.values"
   ]
  },
  {
   "cell_type": "code",
   "execution_count": 28,
   "metadata": {
    "collapsed": true
   },
   "outputs": [],
   "source": [
    "X_train, X_test, y_train, y_test = cross_validation.train_test_split(X_all, y_all,\n",
    "                                                                     test_size=0.30, random_state=67) "
   ]
  },
  {
   "cell_type": "code",
   "execution_count": 29,
   "metadata": {
    "collapsed": false
   },
   "outputs": [],
   "source": [
    "def train_classifier(clf, X_train, y_train):\n",
    "    print(\"Training {}...\".format(clf.__class__.__name__))\n",
    "    start = time.time()\n",
    "    clf.fit(X_train, y_train)\n",
    "    end = time.time()\n",
    "    print(\"Done!\\nTraining time (secs): {:.3f}\".format(end - start))\n",
    "    \n",
    "def predict_labels(clf, X_train, y_train):\n",
    "    print(\"Predicting labels using {}...\".format(clf.__class__.__name__))\n",
    "    start = time.time()\n",
    "    y_pred = clf.predict(X_train)\n",
    "    end = time.time()\n",
    "    print(\"Done!\\nPrediction time (secs): {:.3f}\".format(end - start))\n",
    "    return cross_val_score(clf, X_train, y_train, scoring= 'log_loss')\n",
    "\n",
    "def train_predict(clf, X_train, y_train, X_test, y_test):\n",
    "    print (\"------------------------------------------\")\n",
    "    print (\"Training set size: {}\".format(len(X_train)))\n",
    "    train_classifier(clf, X_train, y_train)\n",
    "    print (\"Log_loss score for training set: {}\".format(predict_labels(clf, X_train, y_train)))\n",
    "    print (\"Log_loss for test set: {}\".format(predict_labels(clf, X_test, y_test)))"
   ]
  },
  {
   "cell_type": "code",
   "execution_count": 30,
   "metadata": {
    "collapsed": true
   },
   "outputs": [],
   "source": [
    "# Loading the classifiers that will be used\n",
    "clf = GaussianNB()\n",
    "rfc = RandomForestClassifier()\n",
    "gbc = GradientBoostingClassifier()\n",
    "knn = KNeighborsClassifier()\n",
    "log = LogisticRegression()"
   ]
  },
  {
   "cell_type": "code",
   "execution_count": 31,
   "metadata": {
    "collapsed": false
   },
   "outputs": [
    {
     "name": "stdout",
     "output_type": "stream",
     "text": [
      "------------------------------------------\n",
      "Training set size: 18710\n",
      "Training GaussianNB...\n",
      "Done!\n",
      "Training time (secs): 0.032\n",
      "Predicting labels using GaussianNB...\n",
      "Done!\n",
      "Prediction time (secs): 0.006\n",
      "Log_loss score for training set: [-1.35270304 -1.4415109  -1.40703546]\n",
      "Predicting labels using GaussianNB...\n",
      "Done!\n",
      "Prediction time (secs): 0.002\n",
      "Log_loss for test set: [-1.42382185 -1.46435222 -1.43835775]\n",
      "------------------------------------------\n",
      "Training set size: 18710\n",
      "Training RandomForestClassifier...\n",
      "Done!\n",
      "Training time (secs): 0.144\n",
      "Predicting labels using RandomForestClassifier...\n",
      "Done!\n",
      "Prediction time (secs): 0.030\n",
      "Log_loss score for training set: [-2.44006114 -2.28707075 -2.20458117]\n",
      "Predicting labels using RandomForestClassifier...\n",
      "Done!\n",
      "Prediction time (secs): 0.013\n",
      "Log_loss for test set: [-2.68274901 -2.5545504  -2.62170915]\n",
      "------------------------------------------\n",
      "Training set size: 18710\n",
      "Training GradientBoostingClassifier...\n",
      "Done!\n",
      "Training time (secs): 4.833\n",
      "Predicting labels using GradientBoostingClassifier...\n",
      "Done!\n",
      "Prediction time (secs): 0.114\n",
      "Log_loss score for training set: [-0.79651393 -0.79642939 -0.78362512]\n",
      "Predicting labels using GradientBoostingClassifier...\n",
      "Done!\n",
      "Prediction time (secs): 0.048\n",
      "Log_loss for test set: [-0.8064855  -0.80679898 -0.80112771]\n",
      "------------------------------------------\n",
      "Training set size: 18710\n",
      "Training KNeighborsClassifier...\n",
      "Done!\n",
      "Training time (secs): 0.029\n",
      "Predicting labels using KNeighborsClassifier...\n",
      "Done!\n",
      "Prediction time (secs): 0.242\n",
      "Log_loss score for training set: [-5.47870144 -5.70578085 -5.60552782]\n",
      "Predicting labels using KNeighborsClassifier...\n",
      "Done!\n",
      "Prediction time (secs): 0.102\n",
      "Log_loss for test set: [-6.18806523 -5.72827316 -5.92940821]\n",
      "------------------------------------------\n",
      "Training set size: 18710\n",
      "Training LogisticRegression...\n",
      "Done!\n",
      "Training time (secs): 0.625\n",
      "Predicting labels using LogisticRegression...\n",
      "Done!\n",
      "Prediction time (secs): 0.032\n",
      "Log_loss score for training set: [-0.97243322 -0.96850567 -0.96267289]\n",
      "Predicting labels using LogisticRegression...\n",
      "Done!\n",
      "Prediction time (secs): 0.000\n",
      "Log_loss for test set: [-0.97698669 -0.97479044 -0.9723897 ]\n"
     ]
    }
   ],
   "source": [
    "# The training of each model\n",
    "train_predict(clf, X_train, y_train, X_test, y_test)\n",
    "train_predict(rfc, X_train, y_train, X_test, y_test)\n",
    "train_predict(gbc, X_train, y_train, X_test, y_test)\n",
    "train_predict(knn, X_train, y_train, X_test, y_test)\n",
    "train_predict(log, X_train, y_train, X_test, y_test)"
   ]
  },
  {
   "cell_type": "code",
   "execution_count": 32,
   "metadata": {
    "collapsed": false
   },
   "outputs": [
    {
     "data": {
      "text/plain": [
       "([mean: -0.96205, std: 0.00605, params: {'n_estimators': 10},\n",
       "  mean: -0.84558, std: 0.00779, params: {'n_estimators': 20},\n",
       "  mean: -0.80890, std: 0.00892, params: {'n_estimators': 30},\n",
       "  mean: -0.79439, std: 0.00885, params: {'n_estimators': 40},\n",
       "  mean: -0.78748, std: 0.00902, params: {'n_estimators': 50},\n",
       "  mean: -0.78403, std: 0.00888, params: {'n_estimators': 60},\n",
       "  mean: -0.78211, std: 0.00954, params: {'n_estimators': 70},\n",
       "  mean: -0.78111, std: 0.01011, params: {'n_estimators': 80},\n",
       "  mean: -0.78106, std: 0.01022, params: {'n_estimators': 90}],\n",
       " {'n_estimators': 90},\n",
       " -0.78106082904408947)"
      ]
     },
     "execution_count": 32,
     "metadata": {},
     "output_type": "execute_result"
    }
   ],
   "source": [
    "# Fine tuning the Gradient Boosting Classifier one param at a time\n",
    "param_test1 = {'n_estimators':[i for i in range(10, 1100, 10)]}\n",
    "gsearch1 = GridSearchCV(estimator = GradientBoostingClassifier(learning_rate=0.1, min_samples_split=500,\n",
    "                        min_samples_leaf=50,max_depth=8,max_features='sqrt',subsample=0.8,random_state=10), \n",
    "                        param_grid = param_test1, scoring='log_loss',n_jobs=4,iid=False, cv=5)\n",
    "gsearch1.fit(X_train, y_train)\n",
    "gsearch1.grid_scores_, gsearch1.best_params_, gsearch1.best_score_"
   ]
  },
  {
   "cell_type": "code",
   "execution_count": 33,
   "metadata": {
    "collapsed": false
   },
   "outputs": [
    {
     "data": {
      "text/plain": [
       "([mean: -0.78111, std: 0.01011, params: {'n_estimators': 80},\n",
       "  mean: -0.78125, std: 0.01028, params: {'n_estimators': 81},\n",
       "  mean: -0.78128, std: 0.01023, params: {'n_estimators': 82},\n",
       "  mean: -0.78115, std: 0.01006, params: {'n_estimators': 83},\n",
       "  mean: -0.78117, std: 0.00994, params: {'n_estimators': 84},\n",
       "  mean: -0.78119, std: 0.00997, params: {'n_estimators': 85},\n",
       "  mean: -0.78128, std: 0.01000, params: {'n_estimators': 86},\n",
       "  mean: -0.78130, std: 0.01011, params: {'n_estimators': 87},\n",
       "  mean: -0.78129, std: 0.01011, params: {'n_estimators': 88},\n",
       "  mean: -0.78130, std: 0.01022, params: {'n_estimators': 89},\n",
       "  mean: -0.78106, std: 0.01022, params: {'n_estimators': 90},\n",
       "  mean: -0.78084, std: 0.01025, params: {'n_estimators': 91},\n",
       "  mean: -0.78084, std: 0.01029, params: {'n_estimators': 92},\n",
       "  mean: -0.78075, std: 0.01029, params: {'n_estimators': 93},\n",
       "  mean: -0.78075, std: 0.01040, params: {'n_estimators': 94},\n",
       "  mean: -0.78082, std: 0.01050, params: {'n_estimators': 95},\n",
       "  mean: -0.78096, std: 0.01061, params: {'n_estimators': 96},\n",
       "  mean: -0.78101, std: 0.01065, params: {'n_estimators': 97},\n",
       "  mean: -0.78119, std: 0.01069, params: {'n_estimators': 98},\n",
       "  mean: -0.78101, std: 0.01043, params: {'n_estimators': 99}],\n",
       " {'n_estimators': 93},\n",
       " -0.78075015606863474)"
      ]
     },
     "execution_count": 33,
     "metadata": {},
     "output_type": "execute_result"
    }
   ],
   "source": [
    "param_test1 = {'n_estimators':[i for i in range(90, 100)]}\n",
    "gsearch1 = GridSearchCV(estimator = GradientBoostingClassifier(learning_rate=0.1, min_samples_split=500,\n",
    "                        min_samples_leaf=50,max_depth=8,max_features='sqrt',subsample=0.8,random_state=10), \n",
    "                        param_grid = param_test1, scoring='log_loss',n_jobs=4,iid=False, cv=5)\n",
    "gsearch1.fit(X_train, y_train)\n",
    "gsearch1.grid_scores_, gsearch1.best_params_, gsearch1.best_score_"
   ]
  },
  {
   "cell_type": "code",
   "execution_count": 34,
   "metadata": {
    "collapsed": false
   },
   "outputs": [
    {
     "data": {
      "text/plain": [
       "([mean: -0.78379, std: 0.00757, params: {'max_depth': 5, 'min_samples_split': 200},\n",
       "  mean: -0.78455, std: 0.00667, params: {'max_depth': 5, 'min_samples_split': 400},\n",
       "  mean: -0.78500, std: 0.00648, params: {'max_depth': 5, 'min_samples_split': 600},\n",
       "  mean: -0.78727, std: 0.00697, params: {'max_depth': 5, 'min_samples_split': 800},\n",
       "  mean: -0.78841, std: 0.00763, params: {'max_depth': 5, 'min_samples_split': 1000},\n",
       "  mean: -0.77767, std: 0.00769, params: {'max_depth': 7, 'min_samples_split': 200},\n",
       "  mean: -0.77893, std: 0.00709, params: {'max_depth': 7, 'min_samples_split': 400},\n",
       "  mean: -0.78078, std: 0.00829, params: {'max_depth': 7, 'min_samples_split': 600},\n",
       "  mean: -0.78291, std: 0.00675, params: {'max_depth': 7, 'min_samples_split': 800},\n",
       "  mean: -0.78504, std: 0.00771, params: {'max_depth': 7, 'min_samples_split': 1000},\n",
       "  mean: -0.78093, std: 0.00866, params: {'max_depth': 9, 'min_samples_split': 200},\n",
       "  mean: -0.77857, std: 0.00924, params: {'max_depth': 9, 'min_samples_split': 400},\n",
       "  mean: -0.78088, std: 0.00940, params: {'max_depth': 9, 'min_samples_split': 600},\n",
       "  mean: -0.78312, std: 0.00968, params: {'max_depth': 9, 'min_samples_split': 800},\n",
       "  mean: -0.78405, std: 0.00688, params: {'max_depth': 9, 'min_samples_split': 1000},\n",
       "  mean: -0.78604, std: 0.01067, params: {'max_depth': 11, 'min_samples_split': 200},\n",
       "  mean: -0.77958, std: 0.00884, params: {'max_depth': 11, 'min_samples_split': 400},\n",
       "  mean: -0.77965, std: 0.00940, params: {'max_depth': 11, 'min_samples_split': 600},\n",
       "  mean: -0.78244, std: 0.00837, params: {'max_depth': 11, 'min_samples_split': 800},\n",
       "  mean: -0.78437, std: 0.00680, params: {'max_depth': 11, 'min_samples_split': 1000},\n",
       "  mean: -0.78914, std: 0.01071, params: {'max_depth': 13, 'min_samples_split': 200},\n",
       "  mean: -0.78257, std: 0.01004, params: {'max_depth': 13, 'min_samples_split': 400},\n",
       "  mean: -0.78048, std: 0.00855, params: {'max_depth': 13, 'min_samples_split': 600},\n",
       "  mean: -0.78219, std: 0.00898, params: {'max_depth': 13, 'min_samples_split': 800},\n",
       "  mean: -0.78383, std: 0.00853, params: {'max_depth': 13, 'min_samples_split': 1000},\n",
       "  mean: -0.79129, std: 0.01254, params: {'max_depth': 15, 'min_samples_split': 200},\n",
       "  mean: -0.78214, std: 0.00946, params: {'max_depth': 15, 'min_samples_split': 400},\n",
       "  mean: -0.78241, std: 0.00999, params: {'max_depth': 15, 'min_samples_split': 600},\n",
       "  mean: -0.78234, std: 0.00848, params: {'max_depth': 15, 'min_samples_split': 800},\n",
       "  mean: -0.78315, std: 0.00676, params: {'max_depth': 15, 'min_samples_split': 1000}],\n",
       " {'max_depth': 7, 'min_samples_split': 200},\n",
       " -0.77767328632570876)"
      ]
     },
     "execution_count": 34,
     "metadata": {},
     "output_type": "execute_result"
    }
   ],
   "source": [
    "param_test2 = {'max_depth':[i for i in range(5,16,2)], 'min_samples_split': [i for i in range(200,1001,200)]}\n",
    "gsearch2 = GridSearchCV(estimator = GradientBoostingClassifier(learning_rate=0.1, max_features='sqrt',\n",
    "                        subsample=0.8,random_state=10,n_estimators=93), param_grid = param_test2, scoring='log_loss',\n",
    "                        n_jobs=4,iid=False, cv=5)\n",
    "gsearch2.fit(X_train, y_train)\n",
    "gsearch2.grid_scores_, gsearch2.best_params_, gsearch2.best_score_"
   ]
  },
  {
   "cell_type": "code",
   "execution_count": 35,
   "metadata": {
    "collapsed": false
   },
   "outputs": [
    {
     "data": {
      "text/plain": [
       "([mean: -0.77765, std: 0.00906, params: {'min_samples_leaf': 30, 'min_samples_split': 10},\n",
       "  mean: -0.77765, std: 0.00906, params: {'min_samples_leaf': 30, 'min_samples_split': 20},\n",
       "  mean: -0.77765, std: 0.00906, params: {'min_samples_leaf': 30, 'min_samples_split': 30},\n",
       "  mean: -0.77765, std: 0.00906, params: {'min_samples_leaf': 30, 'min_samples_split': 40},\n",
       "  mean: -0.77765, std: 0.00906, params: {'min_samples_leaf': 30, 'min_samples_split': 50},\n",
       "  mean: -0.77765, std: 0.00906, params: {'min_samples_leaf': 30, 'min_samples_split': 60},\n",
       "  mean: -0.77809, std: 0.00862, params: {'min_samples_leaf': 30, 'min_samples_split': 70},\n",
       "  mean: -0.77907, std: 0.01045, params: {'min_samples_leaf': 30, 'min_samples_split': 80},\n",
       "  mean: -0.77695, std: 0.00736, params: {'min_samples_leaf': 30, 'min_samples_split': 90},\n",
       "  mean: -0.77893, std: 0.00851, params: {'min_samples_leaf': 30, 'min_samples_split': 100},\n",
       "  mean: -0.77849, std: 0.00843, params: {'min_samples_leaf': 30, 'min_samples_split': 110},\n",
       "  mean: -0.77835, std: 0.00777, params: {'min_samples_leaf': 30, 'min_samples_split': 120},\n",
       "  mean: -0.77727, std: 0.00934, params: {'min_samples_leaf': 30, 'min_samples_split': 130},\n",
       "  mean: -0.77676, std: 0.00745, params: {'min_samples_leaf': 30, 'min_samples_split': 140},\n",
       "  mean: -0.77829, std: 0.00879, params: {'min_samples_leaf': 30, 'min_samples_split': 150},\n",
       "  mean: -0.77809, std: 0.00897, params: {'min_samples_leaf': 30, 'min_samples_split': 160},\n",
       "  mean: -0.77870, std: 0.00938, params: {'min_samples_leaf': 30, 'min_samples_split': 170},\n",
       "  mean: -0.77845, std: 0.00933, params: {'min_samples_leaf': 30, 'min_samples_split': 180},\n",
       "  mean: -0.77744, std: 0.00799, params: {'min_samples_leaf': 30, 'min_samples_split': 190},\n",
       "  mean: -0.77962, std: 0.00779, params: {'min_samples_leaf': 40, 'min_samples_split': 10},\n",
       "  mean: -0.77962, std: 0.00779, params: {'min_samples_leaf': 40, 'min_samples_split': 20},\n",
       "  mean: -0.77962, std: 0.00779, params: {'min_samples_leaf': 40, 'min_samples_split': 30},\n",
       "  mean: -0.77962, std: 0.00779, params: {'min_samples_leaf': 40, 'min_samples_split': 40},\n",
       "  mean: -0.77962, std: 0.00779, params: {'min_samples_leaf': 40, 'min_samples_split': 50},\n",
       "  mean: -0.77962, std: 0.00779, params: {'min_samples_leaf': 40, 'min_samples_split': 60},\n",
       "  mean: -0.77962, std: 0.00779, params: {'min_samples_leaf': 40, 'min_samples_split': 70},\n",
       "  mean: -0.77962, std: 0.00779, params: {'min_samples_leaf': 40, 'min_samples_split': 80},\n",
       "  mean: -0.77967, std: 0.00964, params: {'min_samples_leaf': 40, 'min_samples_split': 90},\n",
       "  mean: -0.77868, std: 0.00929, params: {'min_samples_leaf': 40, 'min_samples_split': 100},\n",
       "  mean: -0.77878, std: 0.00933, params: {'min_samples_leaf': 40, 'min_samples_split': 110},\n",
       "  mean: -0.77721, std: 0.00785, params: {'min_samples_leaf': 40, 'min_samples_split': 120},\n",
       "  mean: -0.77907, std: 0.00972, params: {'min_samples_leaf': 40, 'min_samples_split': 130},\n",
       "  mean: -0.77856, std: 0.00906, params: {'min_samples_leaf': 40, 'min_samples_split': 140},\n",
       "  mean: -0.77893, std: 0.00885, params: {'min_samples_leaf': 40, 'min_samples_split': 150},\n",
       "  mean: -0.77787, std: 0.00847, params: {'min_samples_leaf': 40, 'min_samples_split': 160},\n",
       "  mean: -0.77660, std: 0.00823, params: {'min_samples_leaf': 40, 'min_samples_split': 170},\n",
       "  mean: -0.77879, std: 0.00949, params: {'min_samples_leaf': 40, 'min_samples_split': 180},\n",
       "  mean: -0.77719, std: 0.00859, params: {'min_samples_leaf': 40, 'min_samples_split': 190},\n",
       "  mean: -0.78150, std: 0.00954, params: {'min_samples_leaf': 50, 'min_samples_split': 10},\n",
       "  mean: -0.78150, std: 0.00954, params: {'min_samples_leaf': 50, 'min_samples_split': 20},\n",
       "  mean: -0.78150, std: 0.00954, params: {'min_samples_leaf': 50, 'min_samples_split': 30},\n",
       "  mean: -0.78150, std: 0.00954, params: {'min_samples_leaf': 50, 'min_samples_split': 40},\n",
       "  mean: -0.78150, std: 0.00954, params: {'min_samples_leaf': 50, 'min_samples_split': 50},\n",
       "  mean: -0.78150, std: 0.00954, params: {'min_samples_leaf': 50, 'min_samples_split': 60},\n",
       "  mean: -0.78150, std: 0.00954, params: {'min_samples_leaf': 50, 'min_samples_split': 70},\n",
       "  mean: -0.78150, std: 0.00954, params: {'min_samples_leaf': 50, 'min_samples_split': 80},\n",
       "  mean: -0.78150, std: 0.00954, params: {'min_samples_leaf': 50, 'min_samples_split': 90},\n",
       "  mean: -0.78150, std: 0.00954, params: {'min_samples_leaf': 50, 'min_samples_split': 100},\n",
       "  mean: -0.77852, std: 0.00904, params: {'min_samples_leaf': 50, 'min_samples_split': 110},\n",
       "  mean: -0.77934, std: 0.00764, params: {'min_samples_leaf': 50, 'min_samples_split': 120},\n",
       "  mean: -0.77903, std: 0.00999, params: {'min_samples_leaf': 50, 'min_samples_split': 130},\n",
       "  mean: -0.77952, std: 0.00909, params: {'min_samples_leaf': 50, 'min_samples_split': 140},\n",
       "  mean: -0.77699, std: 0.00812, params: {'min_samples_leaf': 50, 'min_samples_split': 150},\n",
       "  mean: -0.77805, std: 0.00864, params: {'min_samples_leaf': 50, 'min_samples_split': 160},\n",
       "  mean: -0.77883, std: 0.00844, params: {'min_samples_leaf': 50, 'min_samples_split': 170},\n",
       "  mean: -0.77878, std: 0.01050, params: {'min_samples_leaf': 50, 'min_samples_split': 180},\n",
       "  mean: -0.77946, std: 0.00886, params: {'min_samples_leaf': 50, 'min_samples_split': 190},\n",
       "  mean: -0.77998, std: 0.00916, params: {'min_samples_leaf': 60, 'min_samples_split': 10},\n",
       "  mean: -0.77998, std: 0.00916, params: {'min_samples_leaf': 60, 'min_samples_split': 20},\n",
       "  mean: -0.77998, std: 0.00916, params: {'min_samples_leaf': 60, 'min_samples_split': 30},\n",
       "  mean: -0.77998, std: 0.00916, params: {'min_samples_leaf': 60, 'min_samples_split': 40},\n",
       "  mean: -0.77998, std: 0.00916, params: {'min_samples_leaf': 60, 'min_samples_split': 50},\n",
       "  mean: -0.77998, std: 0.00916, params: {'min_samples_leaf': 60, 'min_samples_split': 60},\n",
       "  mean: -0.77998, std: 0.00916, params: {'min_samples_leaf': 60, 'min_samples_split': 70},\n",
       "  mean: -0.77998, std: 0.00916, params: {'min_samples_leaf': 60, 'min_samples_split': 80},\n",
       "  mean: -0.77998, std: 0.00916, params: {'min_samples_leaf': 60, 'min_samples_split': 90},\n",
       "  mean: -0.77998, std: 0.00916, params: {'min_samples_leaf': 60, 'min_samples_split': 100},\n",
       "  mean: -0.77998, std: 0.00916, params: {'min_samples_leaf': 60, 'min_samples_split': 110},\n",
       "  mean: -0.77998, std: 0.00916, params: {'min_samples_leaf': 60, 'min_samples_split': 120},\n",
       "  mean: -0.77957, std: 0.00873, params: {'min_samples_leaf': 60, 'min_samples_split': 130},\n",
       "  mean: -0.77859, std: 0.00760, params: {'min_samples_leaf': 60, 'min_samples_split': 140},\n",
       "  mean: -0.77879, std: 0.00852, params: {'min_samples_leaf': 60, 'min_samples_split': 150},\n",
       "  mean: -0.77964, std: 0.01060, params: {'min_samples_leaf': 60, 'min_samples_split': 160},\n",
       "  mean: -0.78013, std: 0.00817, params: {'min_samples_leaf': 60, 'min_samples_split': 170},\n",
       "  mean: -0.77875, std: 0.00806, params: {'min_samples_leaf': 60, 'min_samples_split': 180},\n",
       "  mean: -0.77994, std: 0.00830, params: {'min_samples_leaf': 60, 'min_samples_split': 190},\n",
       "  mean: -0.77910, std: 0.00856, params: {'min_samples_leaf': 70, 'min_samples_split': 10},\n",
       "  mean: -0.77910, std: 0.00856, params: {'min_samples_leaf': 70, 'min_samples_split': 20},\n",
       "  mean: -0.77910, std: 0.00856, params: {'min_samples_leaf': 70, 'min_samples_split': 30},\n",
       "  mean: -0.77910, std: 0.00856, params: {'min_samples_leaf': 70, 'min_samples_split': 40},\n",
       "  mean: -0.77910, std: 0.00856, params: {'min_samples_leaf': 70, 'min_samples_split': 50},\n",
       "  mean: -0.77910, std: 0.00856, params: {'min_samples_leaf': 70, 'min_samples_split': 60},\n",
       "  mean: -0.77910, std: 0.00856, params: {'min_samples_leaf': 70, 'min_samples_split': 70},\n",
       "  mean: -0.77910, std: 0.00856, params: {'min_samples_leaf': 70, 'min_samples_split': 80},\n",
       "  mean: -0.77910, std: 0.00856, params: {'min_samples_leaf': 70, 'min_samples_split': 90},\n",
       "  mean: -0.77910, std: 0.00856, params: {'min_samples_leaf': 70, 'min_samples_split': 100},\n",
       "  mean: -0.77910, std: 0.00856, params: {'min_samples_leaf': 70, 'min_samples_split': 110},\n",
       "  mean: -0.77910, std: 0.00856, params: {'min_samples_leaf': 70, 'min_samples_split': 120},\n",
       "  mean: -0.77910, std: 0.00856, params: {'min_samples_leaf': 70, 'min_samples_split': 130},\n",
       "  mean: -0.77910, std: 0.00856, params: {'min_samples_leaf': 70, 'min_samples_split': 140},\n",
       "  mean: -0.77995, std: 0.00841, params: {'min_samples_leaf': 70, 'min_samples_split': 150},\n",
       "  mean: -0.77916, std: 0.00918, params: {'min_samples_leaf': 70, 'min_samples_split': 160},\n",
       "  mean: -0.77939, std: 0.00733, params: {'min_samples_leaf': 70, 'min_samples_split': 170},\n",
       "  mean: -0.77844, std: 0.00805, params: {'min_samples_leaf': 70, 'min_samples_split': 180},\n",
       "  mean: -0.77991, std: 0.00943, params: {'min_samples_leaf': 70, 'min_samples_split': 190}],\n",
       " {'min_samples_leaf': 40, 'min_samples_split': 170},\n",
       " -0.77659924698863203)"
      ]
     },
     "execution_count": 35,
     "metadata": {},
     "output_type": "execute_result"
    }
   ],
   "source": [
    "param_test3 = {'min_samples_leaf':[i for i in range(30,71,10)], 'min_samples_split': [i for i in range(10,200, 10)]}\n",
    "gsearch3 = GridSearchCV(estimator = GradientBoostingClassifier(learning_rate=0.1, max_features='sqrt',max_depth=7,\n",
    "                        subsample=0.8,random_state=10,n_estimators=93), param_grid = param_test3, scoring='log_loss',\n",
    "                        n_jobs=4,iid=False, cv=5)\n",
    "gsearch3.fit(X_train, y_train)\n",
    "gsearch3.grid_scores_, gsearch3.best_params_, gsearch3.best_score_"
   ]
  },
  {
   "cell_type": "code",
   "execution_count": 36,
   "metadata": {
    "collapsed": false
   },
   "outputs": [
    {
     "data": {
      "text/plain": [
       "([mean: -0.79048, std: 0.00875, params: {'max_features': 1},\n",
       "  mean: -0.77660, std: 0.00823, params: {'max_features': 3},\n",
       "  mean: -0.77838, std: 0.00959, params: {'max_features': 5},\n",
       "  mean: -0.77731, std: 0.00978, params: {'max_features': 7},\n",
       "  mean: -0.77989, std: 0.00980, params: {'max_features': 9},\n",
       "  mean: -0.78132, std: 0.00830, params: {'max_features': 11}],\n",
       " {'max_features': 3},\n",
       " -0.77659924698863203)"
      ]
     },
     "execution_count": 36,
     "metadata": {},
     "output_type": "execute_result"
    }
   ],
   "source": [
    "param_test5 = {'max_features':[i for i in range(1,12,2)]}\n",
    "gsearch5 = GridSearchCV(estimator = GradientBoostingClassifier(learning_rate=0.1, max_depth=7,\n",
    "                        min_samples_leaf= 40, min_samples_split= 170,subsample=0.8,random_state=10,n_estimators=93),\n",
    "                        param_grid = param_test5, scoring='log_loss', n_jobs=4,iid=False, cv=5)\n",
    "gsearch5.fit(X_train, y_train)\n",
    "gsearch5.grid_scores_, gsearch5.best_params_, gsearch5.best_score_"
   ]
  },
  {
   "cell_type": "code",
   "execution_count": 37,
   "metadata": {
    "collapsed": false
   },
   "outputs": [
    {
     "data": {
      "text/plain": [
       "([mean: -1.24534, std: 0.00051, params: {'subsample': 0.01},\n",
       "  mean: -0.83444, std: 0.00641, params: {'subsample': 0.06},\n",
       "  mean: -0.81686, std: 0.00757, params: {'subsample': 0.11},\n",
       "  mean: -0.80639, std: 0.00795, params: {'subsample': 0.16},\n",
       "  mean: -0.79972, std: 0.00815, params: {'subsample': 0.21},\n",
       "  mean: -0.79753, std: 0.00668, params: {'subsample': 0.26},\n",
       "  mean: -0.79292, std: 0.00821, params: {'subsample': 0.31},\n",
       "  mean: -0.79076, std: 0.00899, params: {'subsample': 0.36},\n",
       "  mean: -0.78663, std: 0.00910, params: {'subsample': 0.41},\n",
       "  mean: -0.78841, std: 0.00942, params: {'subsample': 0.46},\n",
       "  mean: -0.78625, std: 0.00791, params: {'subsample': 0.51},\n",
       "  mean: -0.78356, std: 0.00669, params: {'subsample': 0.56},\n",
       "  mean: -0.78310, std: 0.00796, params: {'subsample': 0.61},\n",
       "  mean: -0.78109, std: 0.00833, params: {'subsample': 0.66},\n",
       "  mean: -0.78016, std: 0.00787, params: {'subsample': 0.71},\n",
       "  mean: -0.78006, std: 0.00931, params: {'subsample': 0.76},\n",
       "  mean: -0.77981, std: 0.00885, params: {'subsample': 0.81},\n",
       "  mean: -0.77884, std: 0.00831, params: {'subsample': 0.86},\n",
       "  mean: -0.77678, std: 0.00932, params: {'subsample': 0.91},\n",
       "  mean: -0.77473, std: 0.00849, params: {'subsample': 0.96}],\n",
       " {'subsample': 0.96},\n",
       " -0.77472947152079907)"
      ]
     },
     "execution_count": 37,
     "metadata": {},
     "output_type": "execute_result"
    }
   ],
   "source": [
    "param_test6 = {'subsample':[i/100 for i in range(1,100,5)]}\n",
    "gsearch6 = GridSearchCV(estimator = GradientBoostingClassifier(learning_rate=0.1, max_depth=7, max_features=3,\n",
    "                        min_samples_leaf= 40, min_samples_split= 170,random_state=10,n_estimators=93),\n",
    "                        param_grid = param_test6, scoring='log_loss', n_jobs=4,iid=False, cv=5)\n",
    "gsearch6.fit(X_train, y_train)\n",
    "gsearch6.grid_scores_, gsearch6.best_params_, gsearch6.best_score_"
   ]
  },
  {
   "cell_type": "code",
   "execution_count": 38,
   "metadata": {
    "collapsed": false
   },
   "outputs": [
    {
     "data": {
      "text/plain": [
       "([mean: -0.77643, std: 0.00779, params: {'subsample': 0.9},\n",
       "  mean: -0.77678, std: 0.00932, params: {'subsample': 0.91},\n",
       "  mean: -0.77670, std: 0.01035, params: {'subsample': 0.92},\n",
       "  mean: -0.77649, std: 0.00906, params: {'subsample': 0.93},\n",
       "  mean: -0.77531, std: 0.00839, params: {'subsample': 0.94},\n",
       "  mean: -0.77584, std: 0.00825, params: {'subsample': 0.95},\n",
       "  mean: -0.77473, std: 0.00849, params: {'subsample': 0.96},\n",
       "  mean: -0.77743, std: 0.00866, params: {'subsample': 0.97},\n",
       "  mean: -0.77644, std: 0.00928, params: {'subsample': 0.98},\n",
       "  mean: -0.77546, std: 0.00874, params: {'subsample': 0.99},\n",
       "  mean: -0.77663, std: 0.00858, params: {'subsample': 1.0}],\n",
       " {'subsample': 0.96},\n",
       " -0.77472947152079907)"
      ]
     },
     "execution_count": 38,
     "metadata": {},
     "output_type": "execute_result"
    }
   ],
   "source": [
    "param_test6 = {'subsample':[i/100 for i in range(90,101)]}\n",
    "gsearch6 = GridSearchCV(estimator = GradientBoostingClassifier(learning_rate=0.1, max_depth=7, max_features=3,\n",
    "                        min_samples_leaf= 40, min_samples_split= 170,random_state=10,n_estimators=93),\n",
    "                        param_grid = param_test6, scoring='log_loss', n_jobs=4,iid=False, cv=5)\n",
    "gsearch6.fit(X_train, y_train)\n",
    "gsearch6.grid_scores_, gsearch6.best_params_, gsearch6.best_score_"
   ]
  },
  {
   "cell_type": "code",
   "execution_count": 39,
   "metadata": {
    "collapsed": false
   },
   "outputs": [],
   "source": [
    "# Determining the best tradeoff for the number of estimators and learning rat\n",
    "clf2 = GradientBoostingClassifier(learning_rate=0.1, max_depth=7, max_features=3,\n",
    "                        min_samples_leaf= 40, min_samples_split= 170,subsample=0.96,random_state=10,n_estimators=93)"
   ]
  },
  {
   "cell_type": "code",
   "execution_count": 40,
   "metadata": {
    "collapsed": true
   },
   "outputs": [],
   "source": [
    "clf3 = GradientBoostingClassifier(learning_rate=0.05, max_depth=7, max_features=3,\n",
    "                        min_samples_leaf= 40, min_samples_split= 170,subsample=0.96,random_state=10,n_estimators=186)"
   ]
  },
  {
   "cell_type": "code",
   "execution_count": 41,
   "metadata": {
    "collapsed": true
   },
   "outputs": [],
   "source": [
    "clf4 = GradientBoostingClassifier(learning_rate=0.01, max_depth=7, max_features=3,\n",
    "                        min_samples_leaf= 40, min_samples_split= 170,subsample=0.96,random_state=10,n_estimators=700)"
   ]
  },
  {
   "cell_type": "code",
   "execution_count": 42,
   "metadata": {
    "collapsed": false
   },
   "outputs": [
    {
     "data": {
      "text/plain": [
       "array([-0.7745057 , -0.77154197, -0.76399355])"
      ]
     },
     "execution_count": 42,
     "metadata": {},
     "output_type": "execute_result"
    }
   ],
   "source": [
    "cross_val_score(clf2, X_all, y_all, cv = 3, scoring = 'log_loss')"
   ]
  },
  {
   "cell_type": "code",
   "execution_count": 43,
   "metadata": {
    "collapsed": false
   },
   "outputs": [
    {
     "data": {
      "text/plain": [
       "array([-0.77050449, -0.76873177, -0.7588799 ])"
      ]
     },
     "execution_count": 43,
     "metadata": {},
     "output_type": "execute_result"
    }
   ],
   "source": [
    "cross_val_score(clf3, X_all, y_all, cv = 3, scoring = 'log_loss')"
   ]
  },
  {
   "cell_type": "code",
   "execution_count": 44,
   "metadata": {
    "collapsed": false
   },
   "outputs": [
    {
     "data": {
      "text/plain": [
       "array([-0.77085097, -0.76916572, -0.76148864])"
      ]
     },
     "execution_count": 44,
     "metadata": {},
     "output_type": "execute_result"
    }
   ],
   "source": [
    "cross_val_score(clf4, X_all, y_all, cv = 3, scoring = 'log_loss')"
   ]
  },
  {
   "cell_type": "code",
   "execution_count": 45,
   "metadata": {
    "collapsed": false
   },
   "outputs": [
    {
     "data": {
      "text/plain": [
       "GradientBoostingClassifier(init=None, learning_rate=0.05, loss='deviance',\n",
       "              max_depth=7, max_features=3, max_leaf_nodes=None,\n",
       "              min_samples_leaf=40, min_samples_split=170,\n",
       "              min_weight_fraction_leaf=0.0, n_estimators=186,\n",
       "              presort='auto', random_state=10, subsample=0.96, verbose=0,\n",
       "              warm_start=False)"
      ]
     },
     "execution_count": 45,
     "metadata": {},
     "output_type": "execute_result"
    }
   ],
   "source": [
    "# Training best tuned model and preparing for submission to kaggle \n",
    "clf3.fit(X_all, y_all)\n",
    "pred = clf3.predict_proba(x_test)"
   ]
  },
  {
   "cell_type": "code",
   "execution_count": 47,
   "metadata": {
    "collapsed": true
   },
   "outputs": [],
   "source": [
    "submission = pd.DataFrame(pred, columns=clf3.classes_)"
   ]
  },
  {
   "cell_type": "code",
   "execution_count": 48,
   "metadata": {
    "collapsed": false
   },
   "outputs": [],
   "source": [
    "submission['ID'] = testDF.ID"
   ]
  },
  {
   "cell_type": "code",
   "execution_count": 49,
   "metadata": {
    "collapsed": false
   },
   "outputs": [
    {
     "data": {
      "text/html": [
       "<div>\n",
       "<table border=\"1\" class=\"dataframe\">\n",
       "  <thead>\n",
       "    <tr style=\"text-align: right;\">\n",
       "      <th></th>\n",
       "      <th>Adoption</th>\n",
       "      <th>Died</th>\n",
       "      <th>Euthanasia</th>\n",
       "      <th>Return_to_owner</th>\n",
       "      <th>Transfer</th>\n",
       "      <th>ID</th>\n",
       "    </tr>\n",
       "  </thead>\n",
       "  <tbody>\n",
       "    <tr>\n",
       "      <th>0</th>\n",
       "      <td>0.024640</td>\n",
       "      <td>0.002442</td>\n",
       "      <td>0.023852</td>\n",
       "      <td>0.234030</td>\n",
       "      <td>0.715037</td>\n",
       "      <td>1</td>\n",
       "    </tr>\n",
       "    <tr>\n",
       "      <th>1</th>\n",
       "      <td>0.558466</td>\n",
       "      <td>0.000960</td>\n",
       "      <td>0.013343</td>\n",
       "      <td>0.364317</td>\n",
       "      <td>0.062913</td>\n",
       "      <td>2</td>\n",
       "    </tr>\n",
       "    <tr>\n",
       "      <th>2</th>\n",
       "      <td>0.582521</td>\n",
       "      <td>0.001366</td>\n",
       "      <td>0.011847</td>\n",
       "      <td>0.163104</td>\n",
       "      <td>0.241162</td>\n",
       "      <td>3</td>\n",
       "    </tr>\n",
       "    <tr>\n",
       "      <th>3</th>\n",
       "      <td>0.213671</td>\n",
       "      <td>0.002866</td>\n",
       "      <td>0.098542</td>\n",
       "      <td>0.136575</td>\n",
       "      <td>0.548346</td>\n",
       "      <td>4</td>\n",
       "    </tr>\n",
       "    <tr>\n",
       "      <th>4</th>\n",
       "      <td>0.377189</td>\n",
       "      <td>0.000678</td>\n",
       "      <td>0.010481</td>\n",
       "      <td>0.517588</td>\n",
       "      <td>0.094064</td>\n",
       "      <td>5</td>\n",
       "    </tr>\n",
       "  </tbody>\n",
       "</table>\n",
       "</div>"
      ],
      "text/plain": [
       "   Adoption      Died  Euthanasia  Return_to_owner  Transfer  ID\n",
       "0  0.024640  0.002442    0.023852         0.234030  0.715037   1\n",
       "1  0.558466  0.000960    0.013343         0.364317  0.062913   2\n",
       "2  0.582521  0.001366    0.011847         0.163104  0.241162   3\n",
       "3  0.213671  0.002866    0.098542         0.136575  0.548346   4\n",
       "4  0.377189  0.000678    0.010481         0.517588  0.094064   5"
      ]
     },
     "execution_count": 49,
     "metadata": {},
     "output_type": "execute_result"
    }
   ],
   "source": [
    "submission.head()"
   ]
  },
  {
   "cell_type": "code",
   "execution_count": 50,
   "metadata": {
    "collapsed": false
   },
   "outputs": [],
   "source": [
    "submission.to_csv('files/submission.csv', index=False)"
   ]
  },
  {
   "cell_type": "code",
   "execution_count": null,
   "metadata": {
    "collapsed": true
   },
   "outputs": [],
   "source": []
  }
 ],
 "metadata": {
  "kernelspec": {
   "display_name": "Python 3",
   "language": "python",
   "name": "python3"
  },
  "language_info": {
   "codemirror_mode": {
    "name": "ipython",
    "version": 3
   },
   "file_extension": ".py",
   "mimetype": "text/x-python",
   "name": "python",
   "nbconvert_exporter": "python",
   "pygments_lexer": "ipython3",
   "version": "3.5.1"
  }
 },
 "nbformat": 4,
 "nbformat_minor": 0
}
