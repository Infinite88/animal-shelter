{
 "cells": [
  {
   "cell_type": "code",
   "execution_count": 1,
   "metadata": {
    "collapsed": true
   },
   "outputs": [],
   "source": [
    "import pandas as pd\n",
    "import numpy as np\n",
    "import matplotlib.pyplot as plt\n",
    "import time\n",
    "\n",
    "from sklearn.learning_curve import learning_curve\n",
    "from sklearn import metrics, cross_validation\n",
    "from sklearn.cross_validation import cross_val_score\n",
    "from sklearn.linear_model import LogisticRegression\n",
    "from sklearn.neighbors import KNeighborsClassifier\n",
    "from sklearn.tree import DecisionTreeClassifier\n",
    "from sklearn.naive_bayes import GaussianNB\n",
    "from sklearn.svm import SVC\n",
    "from sklearn.ensemble import GradientBoostingClassifier, RandomForestClassifier, AdaBoostClassifier\n",
    "from sklearn.metrics import classification_report, accuracy_score,log_loss, f1_score\n",
    "from sklearn.grid_search import GridSearchCV \n",
    "from sklearn.preprocessing import MinMaxScaler, LabelEncoder\n",
    "%matplotlib inline\n",
    "\n",
    "import warnings\n",
    "warnings.filterwarnings('ignore')"
   ]
  },
  {
   "cell_type": "code",
   "execution_count": 2,
   "metadata": {
    "collapsed": false
   },
   "outputs": [],
   "source": [
    "# Importing cleaned dataset for both the testing set and training set \n",
    "trainDF = pd.read_csv('files/cleanTrain.csv')\n",
    "testDF = pd.read_csv('files/cleanTest.csv')"
   ]
  },
  {
   "cell_type": "code",
   "execution_count": 3,
   "metadata": {
    "collapsed": false
   },
   "outputs": [
    {
     "data": {
      "text/html": [
       "<div>\n",
       "<table border=\"1\" class=\"dataframe\">\n",
       "  <thead>\n",
       "    <tr style=\"text-align: right;\">\n",
       "      <th></th>\n",
       "      <th>AnimalID</th>\n",
       "      <th>Name</th>\n",
       "      <th>OutcomeType</th>\n",
       "      <th>AnimalType</th>\n",
       "      <th>AgeuponOutcome</th>\n",
       "      <th>Breed</th>\n",
       "      <th>Color</th>\n",
       "      <th>Sex</th>\n",
       "      <th>Neutered</th>\n",
       "      <th>Year</th>\n",
       "      <th>Month</th>\n",
       "      <th>Day</th>\n",
       "      <th>Hour</th>\n",
       "      <th>Minute</th>\n",
       "    </tr>\n",
       "  </thead>\n",
       "  <tbody>\n",
       "    <tr>\n",
       "      <th>0</th>\n",
       "      <td>A671945</td>\n",
       "      <td>Has Name</td>\n",
       "      <td>Return_to_owner</td>\n",
       "      <td>Dog</td>\n",
       "      <td>52</td>\n",
       "      <td>Hybrid</td>\n",
       "      <td>Brown</td>\n",
       "      <td>Male</td>\n",
       "      <td>Neutered</td>\n",
       "      <td>2014</td>\n",
       "      <td>2</td>\n",
       "      <td>12</td>\n",
       "      <td>18</td>\n",
       "      <td>22</td>\n",
       "    </tr>\n",
       "    <tr>\n",
       "      <th>1</th>\n",
       "      <td>A656520</td>\n",
       "      <td>Has Name</td>\n",
       "      <td>Euthanasia</td>\n",
       "      <td>Cat</td>\n",
       "      <td>52</td>\n",
       "      <td>Hybrid</td>\n",
       "      <td>Cream</td>\n",
       "      <td>Female</td>\n",
       "      <td>Neutered</td>\n",
       "      <td>2013</td>\n",
       "      <td>10</td>\n",
       "      <td>13</td>\n",
       "      <td>12</td>\n",
       "      <td>44</td>\n",
       "    </tr>\n",
       "    <tr>\n",
       "      <th>2</th>\n",
       "      <td>A686464</td>\n",
       "      <td>Has Name</td>\n",
       "      <td>Adoption</td>\n",
       "      <td>Dog</td>\n",
       "      <td>104</td>\n",
       "      <td>Hybrid</td>\n",
       "      <td>Blue</td>\n",
       "      <td>Male</td>\n",
       "      <td>Neutered</td>\n",
       "      <td>2015</td>\n",
       "      <td>1</td>\n",
       "      <td>31</td>\n",
       "      <td>12</td>\n",
       "      <td>28</td>\n",
       "    </tr>\n",
       "    <tr>\n",
       "      <th>3</th>\n",
       "      <td>A683430</td>\n",
       "      <td>No Name</td>\n",
       "      <td>Transfer</td>\n",
       "      <td>Cat</td>\n",
       "      <td>3</td>\n",
       "      <td>Hybrid</td>\n",
       "      <td>Blue</td>\n",
       "      <td>Male</td>\n",
       "      <td>Intact</td>\n",
       "      <td>2014</td>\n",
       "      <td>7</td>\n",
       "      <td>11</td>\n",
       "      <td>19</td>\n",
       "      <td>9</td>\n",
       "    </tr>\n",
       "    <tr>\n",
       "      <th>4</th>\n",
       "      <td>A667013</td>\n",
       "      <td>No Name</td>\n",
       "      <td>Transfer</td>\n",
       "      <td>Dog</td>\n",
       "      <td>104</td>\n",
       "      <td>Hybrid</td>\n",
       "      <td>Tan</td>\n",
       "      <td>Male</td>\n",
       "      <td>Neutered</td>\n",
       "      <td>2013</td>\n",
       "      <td>11</td>\n",
       "      <td>15</td>\n",
       "      <td>12</td>\n",
       "      <td>52</td>\n",
       "    </tr>\n",
       "  </tbody>\n",
       "</table>\n",
       "</div>"
      ],
      "text/plain": [
       "  AnimalID      Name      OutcomeType AnimalType  AgeuponOutcome   Breed  \\\n",
       "0  A671945  Has Name  Return_to_owner        Dog              52  Hybrid   \n",
       "1  A656520  Has Name       Euthanasia        Cat              52  Hybrid   \n",
       "2  A686464  Has Name         Adoption        Dog             104  Hybrid   \n",
       "3  A683430   No Name         Transfer        Cat               3  Hybrid   \n",
       "4  A667013   No Name         Transfer        Dog             104  Hybrid   \n",
       "\n",
       "   Color     Sex  Neutered  Year  Month  Day  Hour  Minute  \n",
       "0  Brown    Male  Neutered  2014      2   12    18      22  \n",
       "1  Cream  Female  Neutered  2013     10   13    12      44  \n",
       "2   Blue    Male  Neutered  2015      1   31    12      28  \n",
       "3   Blue    Male    Intact  2014      7   11    19       9  \n",
       "4    Tan    Male  Neutered  2013     11   15    12      52  "
      ]
     },
     "execution_count": 3,
     "metadata": {},
     "output_type": "execute_result"
    }
   ],
   "source": [
    "trainDF.head()"
   ]
  },
  {
   "cell_type": "code",
   "execution_count": 4,
   "metadata": {
    "collapsed": false
   },
   "outputs": [
    {
     "name": "stdout",
     "output_type": "stream",
     "text": [
      "<class 'pandas.core.frame.DataFrame'>\n",
      "RangeIndex: 26729 entries, 0 to 26728\n",
      "Data columns (total 14 columns):\n",
      "AnimalID          26729 non-null object\n",
      "Name              26729 non-null object\n",
      "OutcomeType       26729 non-null object\n",
      "AnimalType        26729 non-null object\n",
      "AgeuponOutcome    26729 non-null int64\n",
      "Breed             26729 non-null object\n",
      "Color             26729 non-null object\n",
      "Sex               26729 non-null object\n",
      "Neutered          26729 non-null object\n",
      "Year              26729 non-null int64\n",
      "Month             26729 non-null int64\n",
      "Day               26729 non-null int64\n",
      "Hour              26729 non-null int64\n",
      "Minute            26729 non-null int64\n",
      "dtypes: int64(6), object(8)\n",
      "memory usage: 2.9+ MB\n"
     ]
    }
   ],
   "source": [
    "trainDF.info()"
   ]
  },
  {
   "cell_type": "code",
   "execution_count": 5,
   "metadata": {
    "collapsed": false
   },
   "outputs": [
    {
     "name": "stdout",
     "output_type": "stream",
     "text": [
      "<class 'pandas.core.frame.DataFrame'>\n",
      "RangeIndex: 11456 entries, 0 to 11455\n",
      "Data columns (total 13 columns):\n",
      "ID                11456 non-null int64\n",
      "Name              11456 non-null object\n",
      "AnimalType        11456 non-null object\n",
      "AgeuponOutcome    11456 non-null int64\n",
      "Breed             11456 non-null object\n",
      "Color             11456 non-null object\n",
      "Sex               11456 non-null object\n",
      "Neutered          11456 non-null object\n",
      "Year              11456 non-null int64\n",
      "Month             11456 non-null int64\n",
      "Day               11456 non-null int64\n",
      "Hour              11456 non-null int64\n",
      "Minute            11456 non-null int64\n",
      "dtypes: int64(7), object(6)\n",
      "memory usage: 1.1+ MB\n"
     ]
    }
   ],
   "source": [
    "testDF.info()"
   ]
  },
  {
   "cell_type": "code",
   "execution_count": 6,
   "metadata": {
    "collapsed": true
   },
   "outputs": [],
   "source": [
    "# Dropping features so that datasets features match\n",
    "train = trainDF.drop(['AnimalID', 'OutcomeType'], axis = 1)\n",
    "test = testDF.drop('ID', axis=1)"
   ]
  },
  {
   "cell_type": "code",
   "execution_count": 7,
   "metadata": {
    "collapsed": false
   },
   "outputs": [
    {
     "name": "stdout",
     "output_type": "stream",
     "text": [
      "<class 'pandas.core.frame.DataFrame'>\n",
      "RangeIndex: 26729 entries, 0 to 26728\n",
      "Data columns (total 12 columns):\n",
      "Name              26729 non-null object\n",
      "AnimalType        26729 non-null object\n",
      "AgeuponOutcome    26729 non-null int64\n",
      "Breed             26729 non-null object\n",
      "Color             26729 non-null object\n",
      "Sex               26729 non-null object\n",
      "Neutered          26729 non-null object\n",
      "Year              26729 non-null int64\n",
      "Month             26729 non-null int64\n",
      "Day               26729 non-null int64\n",
      "Hour              26729 non-null int64\n",
      "Minute            26729 non-null int64\n",
      "dtypes: int64(6), object(6)\n",
      "memory usage: 2.4+ MB\n"
     ]
    }
   ],
   "source": [
    "train.info()"
   ]
  },
  {
   "cell_type": "code",
   "execution_count": 8,
   "metadata": {
    "collapsed": false
   },
   "outputs": [
    {
     "name": "stdout",
     "output_type": "stream",
     "text": [
      "<class 'pandas.core.frame.DataFrame'>\n",
      "RangeIndex: 11456 entries, 0 to 11455\n",
      "Data columns (total 12 columns):\n",
      "Name              11456 non-null object\n",
      "AnimalType        11456 non-null object\n",
      "AgeuponOutcome    11456 non-null int64\n",
      "Breed             11456 non-null object\n",
      "Color             11456 non-null object\n",
      "Sex               11456 non-null object\n",
      "Neutered          11456 non-null object\n",
      "Year              11456 non-null int64\n",
      "Month             11456 non-null int64\n",
      "Day               11456 non-null int64\n",
      "Hour              11456 non-null int64\n",
      "Minute            11456 non-null int64\n",
      "dtypes: int64(6), object(6)\n",
      "memory usage: 1.0+ MB\n"
     ]
    }
   ],
   "source": [
    "test.info()"
   ]
  },
  {
   "cell_type": "code",
   "execution_count": 9,
   "metadata": {
    "collapsed": false
   },
   "outputs": [],
   "source": [
    "# Transform data into numeric values\n",
    "lb = LabelEncoder()\n",
    "categorical_columns = train.columns[train.dtypes == 'object']\n",
    "for var in categorical_columns:\n",
    "    full_data = pd.concat((train[var],test[var]),axis=0).astype('str')\n",
    "    lb.fit(full_data )\n",
    "    train.loc[:, var] = lb.transform(train[var].astype('str'))\n",
    "    test.loc[:, var] = lb.transform(test[var].astype('str'))"
   ]
  },
  {
   "cell_type": "code",
   "execution_count": 10,
   "metadata": {
    "collapsed": false
   },
   "outputs": [
    {
     "data": {
      "text/html": [
       "<div>\n",
       "<table border=\"1\" class=\"dataframe\">\n",
       "  <thead>\n",
       "    <tr style=\"text-align: right;\">\n",
       "      <th></th>\n",
       "      <th>Name</th>\n",
       "      <th>AnimalType</th>\n",
       "      <th>AgeuponOutcome</th>\n",
       "      <th>Breed</th>\n",
       "      <th>Color</th>\n",
       "      <th>Sex</th>\n",
       "      <th>Neutered</th>\n",
       "      <th>Year</th>\n",
       "      <th>Month</th>\n",
       "      <th>Day</th>\n",
       "      <th>Hour</th>\n",
       "      <th>Minute</th>\n",
       "    </tr>\n",
       "  </thead>\n",
       "  <tbody>\n",
       "    <tr>\n",
       "      <th>0</th>\n",
       "      <td>0</td>\n",
       "      <td>1</td>\n",
       "      <td>52</td>\n",
       "      <td>0</td>\n",
       "      <td>4</td>\n",
       "      <td>1</td>\n",
       "      <td>1</td>\n",
       "      <td>2014</td>\n",
       "      <td>2</td>\n",
       "      <td>12</td>\n",
       "      <td>18</td>\n",
       "      <td>22</td>\n",
       "    </tr>\n",
       "    <tr>\n",
       "      <th>1</th>\n",
       "      <td>0</td>\n",
       "      <td>0</td>\n",
       "      <td>52</td>\n",
       "      <td>0</td>\n",
       "      <td>8</td>\n",
       "      <td>0</td>\n",
       "      <td>1</td>\n",
       "      <td>2013</td>\n",
       "      <td>10</td>\n",
       "      <td>13</td>\n",
       "      <td>12</td>\n",
       "      <td>44</td>\n",
       "    </tr>\n",
       "    <tr>\n",
       "      <th>2</th>\n",
       "      <td>0</td>\n",
       "      <td>1</td>\n",
       "      <td>104</td>\n",
       "      <td>0</td>\n",
       "      <td>3</td>\n",
       "      <td>1</td>\n",
       "      <td>1</td>\n",
       "      <td>2015</td>\n",
       "      <td>1</td>\n",
       "      <td>31</td>\n",
       "      <td>12</td>\n",
       "      <td>28</td>\n",
       "    </tr>\n",
       "    <tr>\n",
       "      <th>3</th>\n",
       "      <td>1</td>\n",
       "      <td>0</td>\n",
       "      <td>3</td>\n",
       "      <td>0</td>\n",
       "      <td>3</td>\n",
       "      <td>1</td>\n",
       "      <td>0</td>\n",
       "      <td>2014</td>\n",
       "      <td>7</td>\n",
       "      <td>11</td>\n",
       "      <td>19</td>\n",
       "      <td>9</td>\n",
       "    </tr>\n",
       "    <tr>\n",
       "      <th>4</th>\n",
       "      <td>1</td>\n",
       "      <td>1</td>\n",
       "      <td>104</td>\n",
       "      <td>0</td>\n",
       "      <td>23</td>\n",
       "      <td>1</td>\n",
       "      <td>1</td>\n",
       "      <td>2013</td>\n",
       "      <td>11</td>\n",
       "      <td>15</td>\n",
       "      <td>12</td>\n",
       "      <td>52</td>\n",
       "    </tr>\n",
       "  </tbody>\n",
       "</table>\n",
       "</div>"
      ],
      "text/plain": [
       "   Name  AnimalType  AgeuponOutcome  Breed  Color  Sex  Neutered  Year  Month  \\\n",
       "0     0           1              52      0      4    1         1  2014      2   \n",
       "1     0           0              52      0      8    0         1  2013     10   \n",
       "2     0           1             104      0      3    1         1  2015      1   \n",
       "3     1           0               3      0      3    1         0  2014      7   \n",
       "4     1           1             104      0     23    1         1  2013     11   \n",
       "\n",
       "   Day  Hour  Minute  \n",
       "0   12    18      22  \n",
       "1   13    12      44  \n",
       "2   31    12      28  \n",
       "3   11    19       9  \n",
       "4   15    12      52  "
      ]
     },
     "execution_count": 10,
     "metadata": {},
     "output_type": "execute_result"
    }
   ],
   "source": [
    "train.head()"
   ]
  },
  {
   "cell_type": "code",
   "execution_count": 11,
   "metadata": {
    "collapsed": false
   },
   "outputs": [],
   "source": [
    "#\n",
    "X_all = train.values\n",
    "y_all = trainDF.OutcomeType.values\n",
    "\n",
    "x_test = test.values"
   ]
  },
  {
   "cell_type": "code",
   "execution_count": 12,
   "metadata": {
    "collapsed": false
   },
   "outputs": [],
   "source": [
    "X_train, X_test, y_train, y_test = cross_validation.train_test_split(X_all, y_all,\n",
    "                                                                     test_size=0.30, random_state=67) "
   ]
  },
  {
   "cell_type": "code",
   "execution_count": 13,
   "metadata": {
    "collapsed": false
   },
   "outputs": [],
   "source": [
    "def train_classifier(clf, X_train, y_train):\n",
    "    print(\"Training {}...\".format(clf.__class__.__name__))\n",
    "    start = time.time()\n",
    "    clf.fit(X_train, y_train)\n",
    "    end = time.time()\n",
    "    print(\"Done!\\nTraining time (secs): {:.3f}\".format(end - start))\n",
    "    \n",
    "def predict_labels(clf, X_train, y_train):\n",
    "    print(\"Predicting labels using {}...\".format(clf.__class__.__name__))\n",
    "    start = time.time()\n",
    "    y_pred = clf.predict(X_train)\n",
    "    end = time.time()\n",
    "    print(\"Done!\\nPrediction time (secs): {:.3f}\".format(end - start))\n",
    "    return cross_val_score(clf, X_train, y_train, scoring= 'log_loss')\n",
    "\n",
    "def train_predict(clf, X_train, y_train, X_test, y_test):\n",
    "    print (\"------------------------------------------\")\n",
    "    print (\"Training set size: {}\".format(len(X_train)))\n",
    "    train_classifier(clf, X_train, y_train)\n",
    "    print (\"Log_loss score for training set: {}\".format(predict_labels(clf, X_train, y_train)))\n",
    "    print (\"Log_loss for test set: {}\".format(predict_labels(clf, X_test, y_test)))"
   ]
  },
  {
   "cell_type": "code",
   "execution_count": 14,
   "metadata": {
    "collapsed": true
   },
   "outputs": [],
   "source": [
    "# Loading the classifiers that will be used\n",
    "clf = GaussianNB()\n",
    "rfc = RandomForestClassifier()\n",
    "gbc = GradientBoostingClassifier()\n",
    "knn = KNeighborsClassifier()\n",
    "log = LogisticRegression()"
   ]
  },
  {
   "cell_type": "code",
   "execution_count": null,
   "metadata": {
    "collapsed": false
   },
   "outputs": [
    {
     "name": "stdout",
     "output_type": "stream",
     "text": [
      "------------------------------------------\n",
      "Training set size: 18710\n",
      "Training GaussianNB...\n",
      "Done!\n",
      "Training time (secs): 0.049\n",
      "Predicting labels using GaussianNB...\n",
      "Done!\n",
      "Prediction time (secs): 0.009\n",
      "Log_loss score for training set: [-1.35270304 -1.4415109  -1.40703546]\n",
      "Predicting labels using GaussianNB...\n",
      "Done!\n",
      "Prediction time (secs): 0.002\n",
      "Log_loss for test set: [-1.42382185 -1.46435222 -1.43835775]\n",
      "------------------------------------------\n",
      "Training set size: 18710\n",
      "Training RandomForestClassifier...\n",
      "Done!\n",
      "Training time (secs): 0.145\n",
      "Predicting labels using RandomForestClassifier...\n",
      "Done!\n",
      "Prediction time (secs): 0.029\n",
      "Log_loss score for training set: [-2.31849779 -2.40809908 -2.28586337]\n",
      "Predicting labels using RandomForestClassifier...\n",
      "Done!\n",
      "Prediction time (secs): 0.013\n",
      "Log_loss for test set: [-2.53346081 -2.49015741 -2.5197616 ]\n",
      "------------------------------------------\n",
      "Training set size: 18710\n",
      "Training GradientBoostingClassifier...\n",
      "Done!\n",
      "Training time (secs): 4.939\n",
      "Predicting labels using GradientBoostingClassifier...\n",
      "Done!\n",
      "Prediction time (secs): 0.110\n",
      "Log_loss score for training set: [-0.79645341 -0.79644027 -0.7836975 ]\n",
      "Predicting labels using GradientBoostingClassifier...\n",
      "Done!\n",
      "Prediction time (secs): 0.050\n",
      "Log_loss for test set: [-0.80708349 -0.80666838 -0.80062071]\n",
      "------------------------------------------\n",
      "Training set size: 18710\n",
      "Training KNeighborsClassifier...\n",
      "Done!\n",
      "Training time (secs): 0.030\n",
      "Predicting labels using KNeighborsClassifier...\n",
      "Done!\n",
      "Prediction time (secs): 0.236\n",
      "Log_loss score for training set: [-5.47870144 -5.70578085 -5.60552782]\n",
      "Predicting labels using KNeighborsClassifier...\n",
      "Done!\n",
      "Prediction time (secs): 0.103\n",
      "Log_loss for test set: [-6.18806523 -5.72827316 -5.92940821]\n",
      "------------------------------------------\n",
      "Training set size: 18710\n",
      "Training LogisticRegression...\n",
      "Done!\n",
      "Training time (secs): 0.576\n",
      "Predicting labels using LogisticRegression...\n",
      "Done!\n",
      "Prediction time (secs): 0.067\n",
      "Log_loss score for training set: [-0.97243322 -0.96850567 -0.96267289]\n",
      "Predicting labels using LogisticRegression...\n",
      "Done!\n",
      "Prediction time (secs): 0.000\n",
      "Log_loss for test set: [-0.97698669 -0.97479044 -0.9723897 ]\n"
     ]
    }
   ],
   "source": [
    "# The training of each model\n",
    "train_predict(clf, X_train, y_train, X_test, y_test)\n",
    "train_predict(rfc, X_train, y_train, X_test, y_test)\n",
    "train_predict(gbc, X_train, y_train, X_test, y_test)\n",
    "train_predict(knn, X_train, y_train, X_test, y_test)\n",
    "train_predict(log, X_train, y_train, X_test, y_test)"
   ]
  },
  {
   "cell_type": "code",
   "execution_count": null,
   "metadata": {
    "collapsed": true
   },
   "outputs": [],
   "source": [
    "param_test1 = {'n_estimators':[i for i in range(90, 100)], 'max_depth':[i for i in range(5,16,2)],\n",
    "              'min_samples_leaf':[i for i in range(30,71,10)], 'min_samples_split': [i for i in range(10,200, 10)],\n",
    "              'max_features':[i for i in range(1,12,2)], 'subsample':[i/100 for i in range(1,100,5)],\n",
    "              'subsample':[i/100 for i in range(90,101)]}\n",
    "gsearch1 = GridSearchCV(estimator = GradientBoostingClassifier(learning_rate=0.1, min_samples_split=500,\n",
    "                        min_samples_leaf=50,max_depth=8,max_features='sqrt',subsample=0.8,random_state=10), \n",
    "                        param_grid = param_test1, scoring='log_loss',n_jobs=4,iid=False, cv=5)\n",
    "gsearch1.fit(X_train, y_train)\n",
    "gsearch1.grid_scores_, gsearch1.best_params_, gsearch1.best_score_"
   ]
  },
  {
   "cell_type": "code",
   "execution_count": null,
   "metadata": {
    "collapsed": false
   },
   "outputs": [],
   "source": [
    "# Determining the best tradeoff for the number of estimators and learning rat\n",
    "clf2 = GradientBoostingClassifier(learning_rate=0.1, max_depth=7, max_features=3,\n",
    "                        min_samples_leaf= 40, min_samples_split= 170,subsample=0.96,random_state=10,n_estimators=93)"
   ]
  },
  {
   "cell_type": "code",
   "execution_count": null,
   "metadata": {
    "collapsed": true
   },
   "outputs": [],
   "source": [
    "clf3 = GradientBoostingClassifier(learning_rate=0.05, max_depth=7, max_features=3,\n",
    "                        min_samples_leaf= 40, min_samples_split= 170,subsample=0.96,random_state=10,n_estimators=186)"
   ]
  },
  {
   "cell_type": "code",
   "execution_count": null,
   "metadata": {
    "collapsed": true
   },
   "outputs": [],
   "source": [
    "clf4 = GradientBoostingClassifier(learning_rate=0.01, max_depth=7, max_features=3,\n",
    "                        min_samples_leaf= 40, min_samples_split= 170,subsample=0.96,random_state=10,n_estimators=700)"
   ]
  },
  {
   "cell_type": "code",
   "execution_count": null,
   "metadata": {
    "collapsed": false
   },
   "outputs": [],
   "source": [
    "cross_val_score(clf2, X_all, y_all, cv = 3, scoring = 'log_loss')"
   ]
  },
  {
   "cell_type": "code",
   "execution_count": null,
   "metadata": {
    "collapsed": false
   },
   "outputs": [],
   "source": [
    "cross_val_score(clf3, X_all, y_all, cv = 3, scoring = 'log_loss')"
   ]
  },
  {
   "cell_type": "code",
   "execution_count": null,
   "metadata": {
    "collapsed": false
   },
   "outputs": [],
   "source": [
    "cross_val_score(clf4, X_all, y_all, cv = 3, scoring = 'log_loss')"
   ]
  },
  {
   "cell_type": "code",
   "execution_count": null,
   "metadata": {
    "collapsed": false
   },
   "outputs": [],
   "source": [
    "# Training best tuned model and preparing for submission to kaggle \n",
    "clf3.fit(X_all, y_all)\n",
    "pred = clf3.predict_proba(x_test)"
   ]
  },
  {
   "cell_type": "code",
   "execution_count": null,
   "metadata": {
    "collapsed": true
   },
   "outputs": [],
   "source": [
    "submission = pd.DataFrame(pred, columns=clf3.classes_)"
   ]
  },
  {
   "cell_type": "code",
   "execution_count": null,
   "metadata": {
    "collapsed": false
   },
   "outputs": [],
   "source": [
    "submission['ID'] = testDF.ID"
   ]
  },
  {
   "cell_type": "code",
   "execution_count": null,
   "metadata": {
    "collapsed": false
   },
   "outputs": [],
   "source": [
    "submission.head()"
   ]
  },
  {
   "cell_type": "code",
   "execution_count": null,
   "metadata": {
    "collapsed": false
   },
   "outputs": [],
   "source": [
    "submission.to_csv('files/submission.csv', index=False)"
   ]
  },
  {
   "cell_type": "code",
   "execution_count": null,
   "metadata": {
    "collapsed": true
   },
   "outputs": [],
   "source": []
  }
 ],
 "metadata": {
  "kernelspec": {
   "display_name": "Python 3",
   "language": "python",
   "name": "python3"
  },
  "language_info": {
   "codemirror_mode": {
    "name": "ipython",
    "version": 3
   },
   "file_extension": ".py",
   "mimetype": "text/x-python",
   "name": "python",
   "nbconvert_exporter": "python",
   "pygments_lexer": "ipython3",
   "version": "3.5.1"
  }
 },
 "nbformat": 4,
 "nbformat_minor": 0
}
