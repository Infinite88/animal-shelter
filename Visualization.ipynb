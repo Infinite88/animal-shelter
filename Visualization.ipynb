{
 "cells": [
  {
   "cell_type": "code",
   "execution_count": 1270,
   "metadata": {
    "collapsed": false
   },
   "outputs": [],
   "source": [
    "import pandas as pd\n",
    "import seaborn as sns\n",
    "import numpy as np\n",
    "import matplotlib.pyplot as plt\n",
    "import time\n",
    "\n",
    "%matplotlib inline\n",
    "\n",
    "import warnings\n",
    "warnings.filterwarnings('ignore')\n"
   ]
  },
  {
   "cell_type": "code",
   "execution_count": 1271,
   "metadata": {
    "collapsed": true
   },
   "outputs": [],
   "source": [
    "def animalDF(file):\n",
    "    df = pd.read_csv(file)\n",
    "    print(df.info())\n",
    "    return df"
   ]
  },
  {
   "cell_type": "markdown",
   "metadata": {},
   "source": [
    "# Data Exploration"
   ]
  },
  {
   "cell_type": "markdown",
   "metadata": {},
   "source": [
    "Importing in the training data. Here we can see that some of the features have null values in them. Lets see how exactly how much from each column."
   ]
  },
  {
   "cell_type": "code",
   "execution_count": 1272,
   "metadata": {
    "collapsed": false
   },
   "outputs": [
    {
     "name": "stdout",
     "output_type": "stream",
     "text": [
      "<class 'pandas.core.frame.DataFrame'>\n",
      "RangeIndex: 26729 entries, 0 to 26728\n",
      "Data columns (total 10 columns):\n",
      "AnimalID          26729 non-null object\n",
      "Name              19038 non-null object\n",
      "DateTime          26729 non-null object\n",
      "OutcomeType       26729 non-null object\n",
      "OutcomeSubtype    13117 non-null object\n",
      "AnimalType        26729 non-null object\n",
      "SexuponOutcome    26728 non-null object\n",
      "AgeuponOutcome    26711 non-null object\n",
      "Breed             26729 non-null object\n",
      "Color             26729 non-null object\n",
      "dtypes: object(10)\n",
      "memory usage: 2.0+ MB\n",
      "None\n",
      "<class 'pandas.core.frame.DataFrame'>\n",
      "RangeIndex: 11456 entries, 0 to 11455\n",
      "Data columns (total 8 columns):\n",
      "ID                11456 non-null int64\n",
      "Name              8231 non-null object\n",
      "DateTime          11456 non-null object\n",
      "AnimalType        11456 non-null object\n",
      "SexuponOutcome    11456 non-null object\n",
      "AgeuponOutcome    11450 non-null object\n",
      "Breed             11456 non-null object\n",
      "Color             11456 non-null object\n",
      "dtypes: int64(1), object(7)\n",
      "memory usage: 716.1+ KB\n",
      "None\n"
     ]
    }
   ],
   "source": [
    "animals = animalDF('files/train.csv')\n",
    "test = animalDF('files/test.csv')"
   ]
  },
  {
   "cell_type": "markdown",
   "metadata": {},
   "source": [
    "Here we see that we have four features that have missing values \"Name\", \"OutcomeSubtype\", \"SexuponOutcome\", and \"AgeuponOutcome.\" Both \"Name\" and \"OutcomeSubtype\" are missing a significant amount of data within them while \"SexuponOutcome\" and \"AgeuponOutcome\" aren't missing that many. We'll fix these in a moment."
   ]
  },
  {
   "cell_type": "code",
   "execution_count": 1273,
   "metadata": {
    "collapsed": false
   },
   "outputs": [
    {
     "data": {
      "text/plain": [
       "ID                   0\n",
       "Name              3225\n",
       "DateTime             0\n",
       "AnimalType           0\n",
       "SexuponOutcome       0\n",
       "AgeuponOutcome       6\n",
       "Breed                0\n",
       "Color                0\n",
       "dtype: int64"
      ]
     },
     "execution_count": 1273,
     "metadata": {},
     "output_type": "execute_result"
    }
   ],
   "source": [
    "animals.isnull().sum()\n",
    "test.isnull().sum()"
   ]
  },
  {
   "cell_type": "markdown",
   "metadata": {},
   "source": [
    "Lets look at the first five rows of this data set."
   ]
  },
  {
   "cell_type": "code",
   "execution_count": 1274,
   "metadata": {
    "collapsed": false
   },
   "outputs": [
    {
     "data": {
      "text/html": [
       "<div>\n",
       "<table border=\"1\" class=\"dataframe\">\n",
       "  <thead>\n",
       "    <tr style=\"text-align: right;\">\n",
       "      <th></th>\n",
       "      <th>AnimalID</th>\n",
       "      <th>Name</th>\n",
       "      <th>DateTime</th>\n",
       "      <th>OutcomeType</th>\n",
       "      <th>OutcomeSubtype</th>\n",
       "      <th>AnimalType</th>\n",
       "      <th>SexuponOutcome</th>\n",
       "      <th>AgeuponOutcome</th>\n",
       "      <th>Breed</th>\n",
       "      <th>Color</th>\n",
       "    </tr>\n",
       "  </thead>\n",
       "  <tbody>\n",
       "    <tr>\n",
       "      <th>0</th>\n",
       "      <td>A671945</td>\n",
       "      <td>Hambone</td>\n",
       "      <td>2014-02-12 18:22:00</td>\n",
       "      <td>Return_to_owner</td>\n",
       "      <td>NaN</td>\n",
       "      <td>Dog</td>\n",
       "      <td>Neutered Male</td>\n",
       "      <td>1 year</td>\n",
       "      <td>Shetland Sheepdog Mix</td>\n",
       "      <td>Brown/White</td>\n",
       "    </tr>\n",
       "    <tr>\n",
       "      <th>1</th>\n",
       "      <td>A656520</td>\n",
       "      <td>Emily</td>\n",
       "      <td>2013-10-13 12:44:00</td>\n",
       "      <td>Euthanasia</td>\n",
       "      <td>Suffering</td>\n",
       "      <td>Cat</td>\n",
       "      <td>Spayed Female</td>\n",
       "      <td>1 year</td>\n",
       "      <td>Domestic Shorthair Mix</td>\n",
       "      <td>Cream Tabby</td>\n",
       "    </tr>\n",
       "    <tr>\n",
       "      <th>2</th>\n",
       "      <td>A686464</td>\n",
       "      <td>Pearce</td>\n",
       "      <td>2015-01-31 12:28:00</td>\n",
       "      <td>Adoption</td>\n",
       "      <td>Foster</td>\n",
       "      <td>Dog</td>\n",
       "      <td>Neutered Male</td>\n",
       "      <td>2 years</td>\n",
       "      <td>Pit Bull Mix</td>\n",
       "      <td>Blue/White</td>\n",
       "    </tr>\n",
       "    <tr>\n",
       "      <th>3</th>\n",
       "      <td>A683430</td>\n",
       "      <td>NaN</td>\n",
       "      <td>2014-07-11 19:09:00</td>\n",
       "      <td>Transfer</td>\n",
       "      <td>Partner</td>\n",
       "      <td>Cat</td>\n",
       "      <td>Intact Male</td>\n",
       "      <td>3 weeks</td>\n",
       "      <td>Domestic Shorthair Mix</td>\n",
       "      <td>Blue Cream</td>\n",
       "    </tr>\n",
       "    <tr>\n",
       "      <th>4</th>\n",
       "      <td>A667013</td>\n",
       "      <td>NaN</td>\n",
       "      <td>2013-11-15 12:52:00</td>\n",
       "      <td>Transfer</td>\n",
       "      <td>Partner</td>\n",
       "      <td>Dog</td>\n",
       "      <td>Neutered Male</td>\n",
       "      <td>2 years</td>\n",
       "      <td>Lhasa Apso/Miniature Poodle</td>\n",
       "      <td>Tan</td>\n",
       "    </tr>\n",
       "  </tbody>\n",
       "</table>\n",
       "</div>"
      ],
      "text/plain": [
       "  AnimalID     Name             DateTime      OutcomeType OutcomeSubtype  \\\n",
       "0  A671945  Hambone  2014-02-12 18:22:00  Return_to_owner            NaN   \n",
       "1  A656520    Emily  2013-10-13 12:44:00       Euthanasia      Suffering   \n",
       "2  A686464   Pearce  2015-01-31 12:28:00         Adoption         Foster   \n",
       "3  A683430      NaN  2014-07-11 19:09:00         Transfer        Partner   \n",
       "4  A667013      NaN  2013-11-15 12:52:00         Transfer        Partner   \n",
       "\n",
       "  AnimalType SexuponOutcome AgeuponOutcome                        Breed  \\\n",
       "0        Dog  Neutered Male         1 year        Shetland Sheepdog Mix   \n",
       "1        Cat  Spayed Female         1 year       Domestic Shorthair Mix   \n",
       "2        Dog  Neutered Male        2 years                 Pit Bull Mix   \n",
       "3        Cat    Intact Male        3 weeks       Domestic Shorthair Mix   \n",
       "4        Dog  Neutered Male        2 years  Lhasa Apso/Miniature Poodle   \n",
       "\n",
       "         Color  \n",
       "0  Brown/White  \n",
       "1  Cream Tabby  \n",
       "2   Blue/White  \n",
       "3   Blue Cream  \n",
       "4          Tan  "
      ]
     },
     "execution_count": 1274,
     "metadata": {},
     "output_type": "execute_result"
    }
   ],
   "source": [
    "animals.head()"
   ]
  },
  {
   "cell_type": "markdown",
   "metadata": {},
   "source": [
    "Above I can see several things that I want to change. I see values such as \"Neutered Male\" and \"Spayed Female\" in the \"SexuponOutcome\" feature. This can be separated into two different features itself, the sex of the animal and whether or not the animal is spayed, neutered, or intact. Also the feature \"AgeuponOutcome\" I would like to get into one catergory of age such as years, months, weeks, or days. \"Breed\" and \"Color\" are also two features that I may want to change."
   ]
  },
  {
   "cell_type": "code",
   "execution_count": 1275,
   "metadata": {
    "collapsed": false
   },
   "outputs": [],
   "source": [
    "# Splitting SexuponOutcome feature into sex and neutered.\n",
    "def sexSplit(data):\n",
    "    sex = str(data)\n",
    "    if 'Male' in sex:\n",
    "        return 'Male'\n",
    "    else:\n",
    "        return 'Female'\n",
    "    \n",
    "def intactSplit(data):\n",
    "    intact = str(data)\n",
    "    if 'Neutered' in intact or 'Spayed' in intact:\n",
    "        return 'Neutered'\n",
    "    elif 'Intact' in intact:\n",
    "        return 'Intact'\n",
    "    else:\n",
    "        return \"Unknown\"\n",
    "    \n",
    "animals['Sex'] = animals.SexuponOutcome.apply(sexSplit)\n",
    "animals['Neutered'] = animals.SexuponOutcome.apply(intactSplit)\n",
    "test['Sex'] = test.SexuponOutcome.apply(sexSplit)\n",
    "test['Neutered'] = test.SexuponOutcome.apply(intactSplit)"
   ]
  },
  {
   "cell_type": "code",
   "execution_count": 1276,
   "metadata": {
    "collapsed": false
   },
   "outputs": [],
   "source": [
    "animals = animals.drop(['SexuponOutcome', 'OutcomeSubtype'], axis=1)\n",
    "test = test.drop('SexuponOutcome', axis=1)"
   ]
  },
  {
   "cell_type": "code",
   "execution_count": 1277,
   "metadata": {
    "collapsed": true
   },
   "outputs": [],
   "source": [
    "def get_mix(data):\n",
    "    mix = str(data)\n",
    "    if 'Mix' in mix or '/' in mix:\n",
    "        return 'Hybrid'\n",
    "    else:\n",
    "        return 'Purebred'\n",
    "animals['Breed'] = animals.Breed.apply(get_mix)\n",
    "test['Breed'] = test.Breed.apply(get_mix)"
   ]
  },
  {
   "cell_type": "code",
   "execution_count": 1278,
   "metadata": {
    "collapsed": false
   },
   "outputs": [],
   "source": [
    "animals['AgeuponOutcome'] = animals['AgeuponOutcome'].fillna('1 year')\n",
    "test['AgeuponOutcome'] = test['AgeuponOutcome'].fillna('1 year')"
   ]
  },
  {
   "cell_type": "code",
   "execution_count": 1279,
   "metadata": {
    "collapsed": false
   },
   "outputs": [],
   "source": [
    "import re\n",
    "def color(data):\n",
    "    x = str(data)\n",
    "    \n",
    "    split = re.split('/| ', x)\n",
    "    return split[0]\n",
    "    \n",
    "animals['Color'] = animals.Color.apply(color)\n",
    "test['Color'] = test.Color.apply(color)"
   ]
  },
  {
   "cell_type": "code",
   "execution_count": 1280,
   "metadata": {
    "collapsed": false
   },
   "outputs": [
    {
     "data": {
      "text/html": [
       "<div>\n",
       "<table border=\"1\" class=\"dataframe\">\n",
       "  <thead>\n",
       "    <tr style=\"text-align: right;\">\n",
       "      <th></th>\n",
       "      <th>AnimalID</th>\n",
       "      <th>Name</th>\n",
       "      <th>DateTime</th>\n",
       "      <th>OutcomeType</th>\n",
       "      <th>AnimalType</th>\n",
       "      <th>AgeuponOutcome</th>\n",
       "      <th>Breed</th>\n",
       "      <th>Color</th>\n",
       "      <th>Sex</th>\n",
       "      <th>Neutered</th>\n",
       "    </tr>\n",
       "  </thead>\n",
       "  <tbody>\n",
       "    <tr>\n",
       "      <th>0</th>\n",
       "      <td>A671945</td>\n",
       "      <td>Hambone</td>\n",
       "      <td>2014-02-12 18:22:00</td>\n",
       "      <td>Return_to_owner</td>\n",
       "      <td>Dog</td>\n",
       "      <td>1 year</td>\n",
       "      <td>Hybrid</td>\n",
       "      <td>Brown</td>\n",
       "      <td>Male</td>\n",
       "      <td>Neutered</td>\n",
       "    </tr>\n",
       "    <tr>\n",
       "      <th>1</th>\n",
       "      <td>A656520</td>\n",
       "      <td>Emily</td>\n",
       "      <td>2013-10-13 12:44:00</td>\n",
       "      <td>Euthanasia</td>\n",
       "      <td>Cat</td>\n",
       "      <td>1 year</td>\n",
       "      <td>Hybrid</td>\n",
       "      <td>Cream</td>\n",
       "      <td>Female</td>\n",
       "      <td>Neutered</td>\n",
       "    </tr>\n",
       "    <tr>\n",
       "      <th>2</th>\n",
       "      <td>A686464</td>\n",
       "      <td>Pearce</td>\n",
       "      <td>2015-01-31 12:28:00</td>\n",
       "      <td>Adoption</td>\n",
       "      <td>Dog</td>\n",
       "      <td>2 years</td>\n",
       "      <td>Hybrid</td>\n",
       "      <td>Blue</td>\n",
       "      <td>Male</td>\n",
       "      <td>Neutered</td>\n",
       "    </tr>\n",
       "    <tr>\n",
       "      <th>3</th>\n",
       "      <td>A683430</td>\n",
       "      <td>NaN</td>\n",
       "      <td>2014-07-11 19:09:00</td>\n",
       "      <td>Transfer</td>\n",
       "      <td>Cat</td>\n",
       "      <td>3 weeks</td>\n",
       "      <td>Hybrid</td>\n",
       "      <td>Blue</td>\n",
       "      <td>Male</td>\n",
       "      <td>Intact</td>\n",
       "    </tr>\n",
       "    <tr>\n",
       "      <th>4</th>\n",
       "      <td>A667013</td>\n",
       "      <td>NaN</td>\n",
       "      <td>2013-11-15 12:52:00</td>\n",
       "      <td>Transfer</td>\n",
       "      <td>Dog</td>\n",
       "      <td>2 years</td>\n",
       "      <td>Hybrid</td>\n",
       "      <td>Tan</td>\n",
       "      <td>Male</td>\n",
       "      <td>Neutered</td>\n",
       "    </tr>\n",
       "  </tbody>\n",
       "</table>\n",
       "</div>"
      ],
      "text/plain": [
       "  AnimalID     Name             DateTime      OutcomeType AnimalType  \\\n",
       "0  A671945  Hambone  2014-02-12 18:22:00  Return_to_owner        Dog   \n",
       "1  A656520    Emily  2013-10-13 12:44:00       Euthanasia        Cat   \n",
       "2  A686464   Pearce  2015-01-31 12:28:00         Adoption        Dog   \n",
       "3  A683430      NaN  2014-07-11 19:09:00         Transfer        Cat   \n",
       "4  A667013      NaN  2013-11-15 12:52:00         Transfer        Dog   \n",
       "\n",
       "  AgeuponOutcome   Breed  Color     Sex  Neutered  \n",
       "0         1 year  Hybrid  Brown    Male  Neutered  \n",
       "1         1 year  Hybrid  Cream  Female  Neutered  \n",
       "2        2 years  Hybrid   Blue    Male  Neutered  \n",
       "3        3 weeks  Hybrid   Blue    Male    Intact  \n",
       "4        2 years  Hybrid    Tan    Male  Neutered  "
      ]
     },
     "execution_count": 1280,
     "metadata": {},
     "output_type": "execute_result"
    }
   ],
   "source": [
    "animals.head()"
   ]
  },
  {
   "cell_type": "code",
   "execution_count": 1281,
   "metadata": {
    "collapsed": false
   },
   "outputs": [],
   "source": [
    "def hasName(data):\n",
    "    x = str(data)\n",
    "    if 'nan' in x:\n",
    "        return 'No Name'\n",
    "    else:\n",
    "        return 'Has Name'\n",
    "\n",
    "animals['Name'] = animals.Name.apply(hasName)\n",
    "test['Name'] = test.Name.apply(hasName)"
   ]
  },
  {
   "cell_type": "code",
   "execution_count": 1282,
   "metadata": {
    "collapsed": false
   },
   "outputs": [
    {
     "data": {
      "text/plain": [
       "Has Name    19021\n",
       "No Name      7708\n",
       "Name: Name, dtype: int64"
      ]
     },
     "execution_count": 1282,
     "metadata": {},
     "output_type": "execute_result"
    }
   ],
   "source": [
    "animals['Name'].value_counts()"
   ]
  },
  {
   "cell_type": "code",
   "execution_count": 1283,
   "metadata": {
    "collapsed": false
   },
   "outputs": [],
   "source": [
    "def convert_AgeuponOutcome_to_weeks(df):\n",
    "    result = {}\n",
    "    for k in df['AgeuponOutcome'].unique():\n",
    "        if type(k) != type(\"\"):\n",
    "            result[k] = -1\n",
    "        else:\n",
    "            v1, v2 = k.split()\n",
    "            if v2 in [\"year\", \"years\"]:\n",
    "                result[k] = int(v1) * 52\n",
    "            elif v2 in [\"month\", \"months\"]:\n",
    "                result[k] = int(v1) * 4.5\n",
    "            elif v2 in [\"week\", \"weeks\"]:\n",
    "                result[k] = int(v1)\n",
    "            elif v2 in [\"day\", \"days\"]:\n",
    "                result[k] = int(v1) / 7\n",
    "                \n",
    "    df['AgeuponOutcome'] = df['AgeuponOutcome'].map(result).astype(int)\n",
    "                \n",
    "    return df\n",
    "\n",
    "animals = convert_AgeuponOutcome_to_weeks(animals)\n",
    "test = convert_AgeuponOutcome_to_weeks(test)"
   ]
  },
  {
   "cell_type": "code",
   "execution_count": 1284,
   "metadata": {
    "collapsed": true
   },
   "outputs": [],
   "source": [
    "def fix_date_time(df):\n",
    "    def extract_field(_df, start, stop):\n",
    "        return _df['DateTime'].map(lambda dt: int(dt[start:stop]))\n",
    "    df['Year'] = extract_field(df,0,4)\n",
    "    df['Month'] = extract_field(df,5,7)\n",
    "    df['Day'] = extract_field(df,8,10)\n",
    "    df['Hour'] = extract_field(df,11,13)\n",
    "    df['Minute'] = extract_field(df,14,16)\n",
    "    \n",
    "    return df.drop(['DateTime'], axis = 1)\n",
    "\n",
    "animals = fix_date_time(animals)\n",
    "test = fix_date_time(test)"
   ]
  },
  {
   "cell_type": "code",
   "execution_count": 1285,
   "metadata": {
    "collapsed": false
   },
   "outputs": [
    {
     "name": "stdout",
     "output_type": "stream",
     "text": [
      "<class 'pandas.core.frame.DataFrame'>\n",
      "RangeIndex: 26729 entries, 0 to 26728\n",
      "Data columns (total 14 columns):\n",
      "AnimalID          26729 non-null object\n",
      "Name              26729 non-null object\n",
      "OutcomeType       26729 non-null object\n",
      "AnimalType        26729 non-null object\n",
      "AgeuponOutcome    26729 non-null int64\n",
      "Breed             26729 non-null object\n",
      "Color             26729 non-null object\n",
      "Sex               26729 non-null object\n",
      "Neutered          26729 non-null object\n",
      "Year              26729 non-null int64\n",
      "Month             26729 non-null int64\n",
      "Day               26729 non-null int64\n",
      "Hour              26729 non-null int64\n",
      "Minute            26729 non-null int64\n",
      "dtypes: int64(6), object(8)\n",
      "memory usage: 2.9+ MB\n"
     ]
    }
   ],
   "source": [
    "animals.info()"
   ]
  },
  {
   "cell_type": "code",
   "execution_count": 1286,
   "metadata": {
    "collapsed": false
   },
   "outputs": [
    {
     "data": {
      "text/html": [
       "<div>\n",
       "<table border=\"1\" class=\"dataframe\">\n",
       "  <thead>\n",
       "    <tr style=\"text-align: right;\">\n",
       "      <th></th>\n",
       "      <th>AnimalID</th>\n",
       "      <th>Name</th>\n",
       "      <th>OutcomeType</th>\n",
       "      <th>AnimalType</th>\n",
       "      <th>AgeuponOutcome</th>\n",
       "      <th>Breed</th>\n",
       "      <th>Color</th>\n",
       "      <th>Sex</th>\n",
       "      <th>Neutered</th>\n",
       "      <th>Year</th>\n",
       "      <th>Month</th>\n",
       "      <th>Day</th>\n",
       "      <th>Hour</th>\n",
       "      <th>Minute</th>\n",
       "    </tr>\n",
       "  </thead>\n",
       "  <tbody>\n",
       "    <tr>\n",
       "      <th>0</th>\n",
       "      <td>A671945</td>\n",
       "      <td>Has Name</td>\n",
       "      <td>Return_to_owner</td>\n",
       "      <td>Dog</td>\n",
       "      <td>52</td>\n",
       "      <td>Hybrid</td>\n",
       "      <td>Brown</td>\n",
       "      <td>Male</td>\n",
       "      <td>Neutered</td>\n",
       "      <td>2014</td>\n",
       "      <td>2</td>\n",
       "      <td>12</td>\n",
       "      <td>18</td>\n",
       "      <td>22</td>\n",
       "    </tr>\n",
       "    <tr>\n",
       "      <th>1</th>\n",
       "      <td>A656520</td>\n",
       "      <td>Has Name</td>\n",
       "      <td>Euthanasia</td>\n",
       "      <td>Cat</td>\n",
       "      <td>52</td>\n",
       "      <td>Hybrid</td>\n",
       "      <td>Cream</td>\n",
       "      <td>Female</td>\n",
       "      <td>Neutered</td>\n",
       "      <td>2013</td>\n",
       "      <td>10</td>\n",
       "      <td>13</td>\n",
       "      <td>12</td>\n",
       "      <td>44</td>\n",
       "    </tr>\n",
       "    <tr>\n",
       "      <th>2</th>\n",
       "      <td>A686464</td>\n",
       "      <td>Has Name</td>\n",
       "      <td>Adoption</td>\n",
       "      <td>Dog</td>\n",
       "      <td>104</td>\n",
       "      <td>Hybrid</td>\n",
       "      <td>Blue</td>\n",
       "      <td>Male</td>\n",
       "      <td>Neutered</td>\n",
       "      <td>2015</td>\n",
       "      <td>1</td>\n",
       "      <td>31</td>\n",
       "      <td>12</td>\n",
       "      <td>28</td>\n",
       "    </tr>\n",
       "    <tr>\n",
       "      <th>3</th>\n",
       "      <td>A683430</td>\n",
       "      <td>No Name</td>\n",
       "      <td>Transfer</td>\n",
       "      <td>Cat</td>\n",
       "      <td>3</td>\n",
       "      <td>Hybrid</td>\n",
       "      <td>Blue</td>\n",
       "      <td>Male</td>\n",
       "      <td>Intact</td>\n",
       "      <td>2014</td>\n",
       "      <td>7</td>\n",
       "      <td>11</td>\n",
       "      <td>19</td>\n",
       "      <td>9</td>\n",
       "    </tr>\n",
       "    <tr>\n",
       "      <th>4</th>\n",
       "      <td>A667013</td>\n",
       "      <td>No Name</td>\n",
       "      <td>Transfer</td>\n",
       "      <td>Dog</td>\n",
       "      <td>104</td>\n",
       "      <td>Hybrid</td>\n",
       "      <td>Tan</td>\n",
       "      <td>Male</td>\n",
       "      <td>Neutered</td>\n",
       "      <td>2013</td>\n",
       "      <td>11</td>\n",
       "      <td>15</td>\n",
       "      <td>12</td>\n",
       "      <td>52</td>\n",
       "    </tr>\n",
       "  </tbody>\n",
       "</table>\n",
       "</div>"
      ],
      "text/plain": [
       "  AnimalID      Name      OutcomeType AnimalType  AgeuponOutcome   Breed  \\\n",
       "0  A671945  Has Name  Return_to_owner        Dog              52  Hybrid   \n",
       "1  A656520  Has Name       Euthanasia        Cat              52  Hybrid   \n",
       "2  A686464  Has Name         Adoption        Dog             104  Hybrid   \n",
       "3  A683430   No Name         Transfer        Cat               3  Hybrid   \n",
       "4  A667013   No Name         Transfer        Dog             104  Hybrid   \n",
       "\n",
       "   Color     Sex  Neutered  Year  Month  Day  Hour  Minute  \n",
       "0  Brown    Male  Neutered  2014      2   12    18      22  \n",
       "1  Cream  Female  Neutered  2013     10   13    12      44  \n",
       "2   Blue    Male  Neutered  2015      1   31    12      28  \n",
       "3   Blue    Male    Intact  2014      7   11    19       9  \n",
       "4    Tan    Male  Neutered  2013     11   15    12      52  "
      ]
     },
     "execution_count": 1286,
     "metadata": {},
     "output_type": "execute_result"
    }
   ],
   "source": [
    "animals.head()"
   ]
  },
  {
   "cell_type": "code",
   "execution_count": 1287,
   "metadata": {
    "collapsed": false
   },
   "outputs": [
    {
     "data": {
      "text/html": [
       "<div>\n",
       "<table border=\"1\" class=\"dataframe\">\n",
       "  <thead>\n",
       "    <tr style=\"text-align: right;\">\n",
       "      <th></th>\n",
       "      <th>ID</th>\n",
       "      <th>Name</th>\n",
       "      <th>AnimalType</th>\n",
       "      <th>AgeuponOutcome</th>\n",
       "      <th>Breed</th>\n",
       "      <th>Color</th>\n",
       "      <th>Sex</th>\n",
       "      <th>Neutered</th>\n",
       "      <th>Year</th>\n",
       "      <th>Month</th>\n",
       "      <th>Day</th>\n",
       "      <th>Hour</th>\n",
       "      <th>Minute</th>\n",
       "    </tr>\n",
       "  </thead>\n",
       "  <tbody>\n",
       "    <tr>\n",
       "      <th>0</th>\n",
       "      <td>1</td>\n",
       "      <td>Has Name</td>\n",
       "      <td>Dog</td>\n",
       "      <td>45</td>\n",
       "      <td>Hybrid</td>\n",
       "      <td>Red</td>\n",
       "      <td>Female</td>\n",
       "      <td>Intact</td>\n",
       "      <td>2015</td>\n",
       "      <td>10</td>\n",
       "      <td>12</td>\n",
       "      <td>12</td>\n",
       "      <td>15</td>\n",
       "    </tr>\n",
       "    <tr>\n",
       "      <th>1</th>\n",
       "      <td>2</td>\n",
       "      <td>Has Name</td>\n",
       "      <td>Dog</td>\n",
       "      <td>104</td>\n",
       "      <td>Hybrid</td>\n",
       "      <td>Black</td>\n",
       "      <td>Female</td>\n",
       "      <td>Neutered</td>\n",
       "      <td>2014</td>\n",
       "      <td>7</td>\n",
       "      <td>26</td>\n",
       "      <td>17</td>\n",
       "      <td>59</td>\n",
       "    </tr>\n",
       "    <tr>\n",
       "      <th>2</th>\n",
       "      <td>3</td>\n",
       "      <td>Has Name</td>\n",
       "      <td>Cat</td>\n",
       "      <td>52</td>\n",
       "      <td>Hybrid</td>\n",
       "      <td>Brown</td>\n",
       "      <td>Male</td>\n",
       "      <td>Neutered</td>\n",
       "      <td>2016</td>\n",
       "      <td>1</td>\n",
       "      <td>13</td>\n",
       "      <td>12</td>\n",
       "      <td>20</td>\n",
       "    </tr>\n",
       "    <tr>\n",
       "      <th>3</th>\n",
       "      <td>4</td>\n",
       "      <td>Has Name</td>\n",
       "      <td>Dog</td>\n",
       "      <td>18</td>\n",
       "      <td>Hybrid</td>\n",
       "      <td>Tricolor</td>\n",
       "      <td>Male</td>\n",
       "      <td>Intact</td>\n",
       "      <td>2013</td>\n",
       "      <td>12</td>\n",
       "      <td>28</td>\n",
       "      <td>18</td>\n",
       "      <td>12</td>\n",
       "    </tr>\n",
       "    <tr>\n",
       "      <th>4</th>\n",
       "      <td>5</td>\n",
       "      <td>Has Name</td>\n",
       "      <td>Dog</td>\n",
       "      <td>104</td>\n",
       "      <td>Hybrid</td>\n",
       "      <td>White</td>\n",
       "      <td>Male</td>\n",
       "      <td>Neutered</td>\n",
       "      <td>2015</td>\n",
       "      <td>9</td>\n",
       "      <td>24</td>\n",
       "      <td>17</td>\n",
       "      <td>59</td>\n",
       "    </tr>\n",
       "  </tbody>\n",
       "</table>\n",
       "</div>"
      ],
      "text/plain": [
       "   ID      Name AnimalType  AgeuponOutcome   Breed     Color     Sex  \\\n",
       "0   1  Has Name        Dog              45  Hybrid       Red  Female   \n",
       "1   2  Has Name        Dog             104  Hybrid     Black  Female   \n",
       "2   3  Has Name        Cat              52  Hybrid     Brown    Male   \n",
       "3   4  Has Name        Dog              18  Hybrid  Tricolor    Male   \n",
       "4   5  Has Name        Dog             104  Hybrid     White    Male   \n",
       "\n",
       "   Neutered  Year  Month  Day  Hour  Minute  \n",
       "0    Intact  2015     10   12    12      15  \n",
       "1  Neutered  2014      7   26    17      59  \n",
       "2  Neutered  2016      1   13    12      20  \n",
       "3    Intact  2013     12   28    18      12  \n",
       "4  Neutered  2015      9   24    17      59  "
      ]
     },
     "execution_count": 1287,
     "metadata": {},
     "output_type": "execute_result"
    }
   ],
   "source": [
    "test.head()"
   ]
  },
  {
   "cell_type": "code",
   "execution_count": 1288,
   "metadata": {
    "collapsed": true
   },
   "outputs": [],
   "source": [
    "animals.to_csv('files/cleanTrain.csv', index=False)\n",
    "test.to_csv('files/cleanTest.csv', index=False)"
   ]
  },
  {
   "cell_type": "code",
   "execution_count": null,
   "metadata": {
    "collapsed": true
   },
   "outputs": [],
   "source": []
  },
  {
   "cell_type": "markdown",
   "metadata": {},
   "source": [
    "# Exploratory Visualization"
   ]
  },
  {
   "cell_type": "code",
   "execution_count": 1289,
   "metadata": {
    "collapsed": false
   },
   "outputs": [
    {
     "data": {
      "text/plain": [
       "<seaborn.axisgrid.FacetGrid at 0x7f997376ba90>"
      ]
     },
     "execution_count": 1289,
     "metadata": {},
     "output_type": "execute_result"
    },
    {
     "data": {
      "image/png": "[encoded data removed]",
      "text/plain": [
       "<matplotlib.figure.Figure at 0x7f997376b080>"
      ]
     },
     "metadata": {},
     "output_type": "display_data"
    }
   ],
   "source": [
    "sns.factorplot(data=animals, x='OutcomeType', hue='AnimalType', kind='count', size=7)"
   ]
  },
  {
   "cell_type": "code",
   "execution_count": 1290,
   "metadata": {
    "collapsed": false
   },
   "outputs": [
    {
     "data": {
      "text/plain": [
       "<seaborn.axisgrid.FacetGrid at 0x7f9973c57ef0>"
      ]
     },
     "execution_count": 1290,
     "metadata": {},
     "output_type": "execute_result"
    },
    {
     "data": {
      "image/png": "[encoded data removed]",
      "text/plain": [
       "<matplotlib.figure.Figure at 0x7f9981519c50>"
      ]
     },
     "metadata": {},
     "output_type": "display_data"
    }
   ],
   "source": [
    "sns.factorplot(data=animals, x='OutcomeType', hue='Neutered', kind='count', size=7)"
   ]
  },
  {
   "cell_type": "code",
   "execution_count": 1291,
   "metadata": {
    "collapsed": false
   },
   "outputs": [
    {
     "data": {
      "text/plain": [
       "<matplotlib.axes._subplots.AxesSubplot at 0x7f997379c198>"
      ]
     },
     "execution_count": 1291,
     "metadata": {},
     "output_type": "execute_result"
    },
    {
     "data": {
      "image/png": "[encoded data removed]",
      "text/plain": [
       "<matplotlib.figure.Figure at 0x7f997376b550>"
      ]
     },
     "metadata": {},
     "output_type": "display_data"
    }
   ],
   "source": [
    "sns.countplot(data=animals, x='AnimalType',hue='Breed')"
   ]
  },
  {
   "cell_type": "code",
   "execution_count": null,
   "metadata": {
    "collapsed": true
   },
   "outputs": [],
   "source": []
  }
 ],
 "metadata": {
  "kernelspec": {
   "display_name": "Python 3",
   "language": "python",
   "name": "python3"
  },
  "language_info": {
   "codemirror_mode": {
    "name": "ipython",
    "version": 3
   },
   "file_extension": ".py",
   "mimetype": "text/x-python",
   "name": "python",
   "nbconvert_exporter": "python",
   "pygments_lexer": "ipython3",
   "version": "3.5.1"
  }
 },
 "nbformat": 4,
 "nbformat_minor": 0
}
